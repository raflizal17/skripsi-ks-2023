{
  "nbformat": 4,
  "nbformat_minor": 0,
  "metadata": {
    "colab": {
      "provenance": [],
      "toc_visible": true
    },
    "kernelspec": {
      "name": "ir",
      "display_name": "R"
    }
  },
  "cells": [
    {
      "cell_type": "markdown",
      "source": [
        "# Install and Load Packages"
      ],
      "metadata": {
        "id": "PFY_jEHoo5tM"
      }
    },
    {
      "cell_type": "code",
      "source": [
        "install.packages(\"sae\")"
      ],
      "metadata": {
        "colab": {
          "base_uri": "https://localhost:8080/"
        },
        "id": "OhDQwBtroAT0",
        "outputId": "cd80638e-950d-48fb-c959-8b95eef0237c"
      },
      "execution_count": 1,
      "outputs": [
        {
          "output_type": "stream",
          "name": "stderr",
          "text": [
            "Installing package into ‘/usr/local/lib/R/site-library’\n",
            "(as ‘lib’ is unspecified)\n",
            "\n",
            "also installing the dependencies ‘minqa’, ‘nloptr’, ‘Rcpp’, ‘RcppEigen’, ‘lme4’\n",
            "\n",
            "\n"
          ]
        }
      ]
    },
    {
      "cell_type": "code",
      "source": [
        "library(sae)\n",
        "library(readxl)"
      ],
      "metadata": {
        "id": "GIRaQ2n-oE62",
        "colab": {
          "base_uri": "https://localhost:8080/"
        },
        "outputId": "1b363ad7-e57d-4c12-f813-d589da633901"
      },
      "execution_count": 2,
      "outputs": [
        {
          "output_type": "stream",
          "name": "stderr",
          "text": [
            "Loading required package: MASS\n",
            "\n",
            "Loading required package: lme4\n",
            "\n",
            "Loading required package: Matrix\n",
            "\n"
          ]
        }
      ]
    },
    {
      "cell_type": "markdown",
      "source": [
        "# Load Dataset"
      ],
      "metadata": {
        "id": "8uIB5r5IpF4S"
      }
    },
    {
      "cell_type": "code",
      "source": [
        "# Import data variabel penyerta dan hasil estimasi langsung\n",
        "dataset <- read_excel(\"dataset_skripsi_revisi.xlsx\", sheet = 1)\n",
        "hasil_est_lgsg <- read_excel(\"Hasil_Estimasi_Langsung.xlsx\")\n",
        "data_x <- dataset[, -c(1,2,3,4)]"
      ],
      "metadata": {
        "id": "Sr5Wf8Yfo3WE"
      },
      "execution_count": 3,
      "outputs": []
    },
    {
      "cell_type": "markdown",
      "source": [
        "# Estimasi Tak Langsung dengan Model SAE EBLUP-FH"
      ],
      "metadata": {
        "id": "xAyDh6aRpJkn"
      }
    },
    {
      "cell_type": "code",
      "source": [
        "# Model EBLUP-FH 1 (8 variabel penyerta dari hasil backward elimination)\n",
        "model_eblup_fh1 <- eblupFH(hasil_est_lgsg$Konsumsi_Listrik_Kapita ~ data_x$bui_median + data_x$pm2.5_median + data_x$elevation_median + data_x$rwi_weighted + data_x$jlh_fas_pddk + data_x$jlh_sarana_eko + data_x$jlh_tmpt_ibdh + data_x$kepadatan_penduduk, vardir = hasil_est_lgsg$Var, method = \"REML\")\n",
        "# Model EBLUP-FH 2 (kepadatan penduduk diexclude)\n",
        "model_eblup_fh2 <- eblupFH(hasil_est_lgsg$Konsumsi_Listrik_Kapita ~ data_x$bui_median + data_x$pm2.5_median + data_x$elevation_median + data_x$rwi_weighted + data_x$jlh_fas_pddk + data_x$jlh_sarana_eko + data_x$jlh_tmpt_ibdh, vardir = hasil_est_lgsg$Var, method = \"REML\")\n",
        "# Model EBLUP-FH 3 (fasilitas pendidikan diexclude)\n",
        "model_eblup_fh3 <- eblupFH(hasil_est_lgsg$Konsumsi_Listrik_Kapita ~ data_x$bui_median + data_x$pm2.5_median + data_x$elevation_median + data_x$rwi_weighted + data_x$jlh_sarana_eko + data_x$jlh_tmpt_ibdh + data_x$kepadatan_penduduk, vardir = hasil_est_lgsg$Var, method = \"REML\")\n",
        "# Model EBLUP-FH 4 (kepadatan penduduk dan fasilitas pendidikan diexclude)\n",
        "model_eblup_fh4 <- eblupFH(hasil_est_lgsg$Konsumsi_Listrik_Kapita ~ data_x$bui_median + data_x$pm2.5_median + data_x$elevation_median + data_x$rwi_weighted + data_x$jlh_sarana_eko + data_x$jlh_tmpt_ibdh, vardir = hasil_est_lgsg$Var, method = \"REML\")"
      ],
      "metadata": {
        "id": "aqvGY9IapLj4"
      },
      "execution_count": 5,
      "outputs": []
    },
    {
      "cell_type": "code",
      "source": [
        "# Fit model EBLUP-FH\n",
        "model_eblup_fh1$fit"
      ],
      "metadata": {
        "colab": {
          "base_uri": "https://localhost:8080/",
          "height": 599
        },
        "id": "_hphGhzs1gLz",
        "outputId": "380d5201-96a9-4d1c-e7aa-01a6813eabfb"
      },
      "execution_count": 6,
      "outputs": [
        {
          "output_type": "display_data",
          "data": {
            "text/html": [
              "<dl>\n",
              "\t<dt>$method</dt>\n",
              "\t\t<dd>'REML'</dd>\n",
              "\t<dt>$convergence</dt>\n",
              "\t\t<dd>TRUE</dd>\n",
              "\t<dt>$iterations</dt>\n",
              "\t\t<dd>5</dd>\n",
              "\t<dt>$estcoef</dt>\n",
              "\t\t<dd><table class=\"dataframe\">\n",
              "<caption>A data.frame: 9 × 4</caption>\n",
              "<thead>\n",
              "\t<tr><th></th><th scope=col>beta</th><th scope=col>std.error</th><th scope=col>tvalue</th><th scope=col>pvalue</th></tr>\n",
              "\t<tr><th></th><th scope=col>&lt;dbl&gt;</th><th scope=col>&lt;dbl&gt;</th><th scope=col>&lt;dbl&gt;</th><th scope=col>&lt;dbl&gt;</th></tr>\n",
              "</thead>\n",
              "<tbody>\n",
              "\t<tr><th scope=row>(Intercept)</th><td>26.7321215164</td><td>2.499091320</td><td>10.696737</td><td>1.054260e-26</td></tr>\n",
              "\t<tr><th scope=row>data_x$bui_median</th><td>10.4059289385</td><td>1.819096666</td><td> 5.720383</td><td>1.062844e-08</td></tr>\n",
              "\t<tr><th scope=row>data_x$pm2.5_median</th><td> 0.1102096923</td><td>0.056239867</td><td> 1.959636</td><td>5.003830e-02</td></tr>\n",
              "\t<tr><th scope=row>data_x$elevation_median</th><td>-0.0065196006</td><td>0.001177488</td><td>-5.536872</td><td>3.079219e-08</td></tr>\n",
              "\t<tr><th scope=row>data_x$rwi_weighted</th><td> 1.4300058899</td><td>1.158311125</td><td> 1.234561</td><td>2.169939e-01</td></tr>\n",
              "\t<tr><th scope=row>data_x$jlh_fas_pddk</th><td> 0.0194309173</td><td>0.010362293</td><td> 1.875156</td><td>6.077124e-02</td></tr>\n",
              "\t<tr><th scope=row>data_x$jlh_sarana_eko</th><td> 0.0051386607</td><td>0.001077798</td><td> 4.767741</td><td>1.863030e-06</td></tr>\n",
              "\t<tr><th scope=row>data_x$jlh_tmpt_ibdh</th><td>-0.0107717189</td><td>0.004359450</td><td>-2.470889</td><td>1.347776e-02</td></tr>\n",
              "\t<tr><th scope=row>data_x$kepadatan_penduduk</th><td> 0.0002954506</td><td>0.000244988</td><td> 1.205980</td><td>2.278253e-01</td></tr>\n",
              "</tbody>\n",
              "</table>\n",
              "</dd>\n",
              "\t<dt>$refvar</dt>\n",
              "\t\t<dd>32.958898534359</dd>\n",
              "\t<dt>$goodness</dt>\n",
              "\t\t<dd><style>\n",
              ".dl-inline {width: auto; margin:0; padding: 0}\n",
              ".dl-inline>dt, .dl-inline>dd {float: none; width: auto; display: inline-block}\n",
              ".dl-inline>dt::after {content: \":\\0020\"; padding-right: .5ex}\n",
              ".dl-inline>dt:not(:first-of-type) {padding-left: .5ex}\n",
              "</style><dl class=dl-inline><dt>loglike</dt><dd>-1944.1273198442</dd><dt>AIC</dt><dd>3908.25463968841</dd><dt>BIC</dt><dd>3951.74602960221</dd><dt>KIC</dt><dd>3918.25463968841</dd></dl>\n",
              "</dd>\n",
              "</dl>\n"
            ],
            "text/markdown": "$method\n:   'REML'\n$convergence\n:   TRUE\n$iterations\n:   5\n$estcoef\n:   \nA data.frame: 9 × 4\n\n| <!--/--> | beta &lt;dbl&gt; | std.error &lt;dbl&gt; | tvalue &lt;dbl&gt; | pvalue &lt;dbl&gt; |\n|---|---|---|---|---|\n| (Intercept) | 26.7321215164 | 2.499091320 | 10.696737 | 1.054260e-26 |\n| data_x$bui_median | 10.4059289385 | 1.819096666 |  5.720383 | 1.062844e-08 |\n| data_x$pm2.5_median |  0.1102096923 | 0.056239867 |  1.959636 | 5.003830e-02 |\n| data_x$elevation_median | -0.0065196006 | 0.001177488 | -5.536872 | 3.079219e-08 |\n| data_x$rwi_weighted |  1.4300058899 | 1.158311125 |  1.234561 | 2.169939e-01 |\n| data_x$jlh_fas_pddk |  0.0194309173 | 0.010362293 |  1.875156 | 6.077124e-02 |\n| data_x$jlh_sarana_eko |  0.0051386607 | 0.001077798 |  4.767741 | 1.863030e-06 |\n| data_x$jlh_tmpt_ibdh | -0.0107717189 | 0.004359450 | -2.470889 | 1.347776e-02 |\n| data_x$kepadatan_penduduk |  0.0002954506 | 0.000244988 |  1.205980 | 2.278253e-01 |\n\n\n$refvar\n:   32.958898534359\n$goodness\n:   loglike\n:   -1944.1273198442AIC\n:   3908.25463968841BIC\n:   3951.74602960221KIC\n:   3918.25463968841\n\n\n\n\n",
            "text/latex": "\\begin{description}\n\\item[\\$method] 'REML'\n\\item[\\$convergence] TRUE\n\\item[\\$iterations] 5\n\\item[\\$estcoef] A data.frame: 9 × 4\n\\begin{tabular}{r|llll}\n  & beta & std.error & tvalue & pvalue\\\\\n  & <dbl> & <dbl> & <dbl> & <dbl>\\\\\n\\hline\n\t(Intercept) & 26.7321215164 & 2.499091320 & 10.696737 & 1.054260e-26\\\\\n\tdata\\_x\\$bui\\_median & 10.4059289385 & 1.819096666 &  5.720383 & 1.062844e-08\\\\\n\tdata\\_x\\$pm2.5\\_median &  0.1102096923 & 0.056239867 &  1.959636 & 5.003830e-02\\\\\n\tdata\\_x\\$elevation\\_median & -0.0065196006 & 0.001177488 & -5.536872 & 3.079219e-08\\\\\n\tdata\\_x\\$rwi\\_weighted &  1.4300058899 & 1.158311125 &  1.234561 & 2.169939e-01\\\\\n\tdata\\_x\\$jlh\\_fas\\_pddk &  0.0194309173 & 0.010362293 &  1.875156 & 6.077124e-02\\\\\n\tdata\\_x\\$jlh\\_sarana\\_eko &  0.0051386607 & 0.001077798 &  4.767741 & 1.863030e-06\\\\\n\tdata\\_x\\$jlh\\_tmpt\\_ibdh & -0.0107717189 & 0.004359450 & -2.470889 & 1.347776e-02\\\\\n\tdata\\_x\\$kepadatan\\_penduduk &  0.0002954506 & 0.000244988 &  1.205980 & 2.278253e-01\\\\\n\\end{tabular}\n\n\\item[\\$refvar] 32.958898534359\n\\item[\\$goodness] \\begin{description*}\n\\item[loglike] -1944.1273198442\n\\item[AIC] 3908.25463968841\n\\item[BIC] 3951.74602960221\n\\item[KIC] 3918.25463968841\n\\end{description*}\n\n\\end{description}\n",
            "text/plain": [
              "$method\n",
              "[1] \"REML\"\n",
              "\n",
              "$convergence\n",
              "[1] TRUE\n",
              "\n",
              "$iterations\n",
              "[1] 5\n",
              "\n",
              "$estcoef\n",
              "                                   beta   std.error    tvalue       pvalue\n",
              "(Intercept)               26.7321215164 2.499091320 10.696737 1.054260e-26\n",
              "data_x$bui_median         10.4059289385 1.819096666  5.720383 1.062844e-08\n",
              "data_x$pm2.5_median        0.1102096923 0.056239867  1.959636 5.003830e-02\n",
              "data_x$elevation_median   -0.0065196006 0.001177488 -5.536872 3.079219e-08\n",
              "data_x$rwi_weighted        1.4300058899 1.158311125  1.234561 2.169939e-01\n",
              "data_x$jlh_fas_pddk        0.0194309173 0.010362293  1.875156 6.077124e-02\n",
              "data_x$jlh_sarana_eko      0.0051386607 0.001077798  4.767741 1.863030e-06\n",
              "data_x$jlh_tmpt_ibdh      -0.0107717189 0.004359450 -2.470889 1.347776e-02\n",
              "data_x$kepadatan_penduduk  0.0002954506 0.000244988  1.205980 2.278253e-01\n",
              "\n",
              "$refvar\n",
              "[1] 32.9589\n",
              "\n",
              "$goodness\n",
              "  loglike       AIC       BIC       KIC \n",
              "-1944.127  3908.255  3951.746  3918.255 \n"
            ]
          },
          "metadata": {}
        }
      ]
    },
    {
      "cell_type": "code",
      "source": [
        "model_eblup_fh2$fit"
      ],
      "metadata": {
        "colab": {
          "base_uri": "https://localhost:8080/",
          "height": 568
        },
        "id": "bXVx0Tjg1ioZ",
        "outputId": "0da55af2-aa87-4ea7-9786-1a797a127102"
      },
      "execution_count": 7,
      "outputs": [
        {
          "output_type": "display_data",
          "data": {
            "text/html": [
              "<dl>\n",
              "\t<dt>$method</dt>\n",
              "\t\t<dd>'REML'</dd>\n",
              "\t<dt>$convergence</dt>\n",
              "\t\t<dd>TRUE</dd>\n",
              "\t<dt>$iterations</dt>\n",
              "\t\t<dd>5</dd>\n",
              "\t<dt>$estcoef</dt>\n",
              "\t\t<dd><table class=\"dataframe\">\n",
              "<caption>A data.frame: 8 × 4</caption>\n",
              "<thead>\n",
              "\t<tr><th></th><th scope=col>beta</th><th scope=col>std.error</th><th scope=col>tvalue</th><th scope=col>pvalue</th></tr>\n",
              "\t<tr><th></th><th scope=col>&lt;dbl&gt;</th><th scope=col>&lt;dbl&gt;</th><th scope=col>&lt;dbl&gt;</th><th scope=col>&lt;dbl&gt;</th></tr>\n",
              "</thead>\n",
              "<tbody>\n",
              "\t<tr><th scope=row>(Intercept)</th><td>27.125146216</td><td>2.475525163</td><td>10.957330</td><td>6.128069e-28</td></tr>\n",
              "\t<tr><th scope=row>data_x$bui_median</th><td>11.231471729</td><td>1.683833476</td><td> 6.670180</td><td>2.554905e-11</td></tr>\n",
              "\t<tr><th scope=row>data_x$pm2.5_median</th><td> 0.125860738</td><td>0.054661926</td><td> 2.302530</td><td>2.130529e-02</td></tr>\n",
              "\t<tr><th scope=row>data_x$elevation_median</th><td>-0.006501346</td><td>0.001176285</td><td>-5.527017</td><td>3.257214e-08</td></tr>\n",
              "\t<tr><th scope=row>data_x$rwi_weighted</th><td> 1.814092167</td><td>1.112401290</td><td> 1.630789</td><td>1.029348e-01</td></tr>\n",
              "\t<tr><th scope=row>data_x$jlh_fas_pddk</th><td> 0.021360448</td><td>0.010228527</td><td> 2.088321</td><td>3.676889e-02</td></tr>\n",
              "\t<tr><th scope=row>data_x$jlh_sarana_eko</th><td> 0.005425361</td><td>0.001050500</td><td> 5.164551</td><td>2.410161e-07</td></tr>\n",
              "\t<tr><th scope=row>data_x$jlh_tmpt_ibdh</th><td>-0.012501944</td><td>0.004113076</td><td>-3.039561</td><td>2.369233e-03</td></tr>\n",
              "</tbody>\n",
              "</table>\n",
              "</dd>\n",
              "\t<dt>$refvar</dt>\n",
              "\t\t<dd>32.8778802910933</dd>\n",
              "\t<dt>$goodness</dt>\n",
              "\t\t<dd><style>\n",
              ".dl-inline {width: auto; margin:0; padding: 0}\n",
              ".dl-inline>dt, .dl-inline>dd {float: none; width: auto; display: inline-block}\n",
              ".dl-inline>dt::after {content: \":\\0020\"; padding-right: .5ex}\n",
              ".dl-inline>dt:not(:first-of-type) {padding-left: .5ex}\n",
              "</style><dl class=dl-inline><dt>loglike</dt><dd>-1944.84687058067</dd><dt>AIC</dt><dd>3907.69374116133</dd><dt>BIC</dt><dd>3946.83599208375</dd><dt>KIC</dt><dd>3916.69374116133</dd></dl>\n",
              "</dd>\n",
              "</dl>\n"
            ],
            "text/markdown": "$method\n:   'REML'\n$convergence\n:   TRUE\n$iterations\n:   5\n$estcoef\n:   \nA data.frame: 8 × 4\n\n| <!--/--> | beta &lt;dbl&gt; | std.error &lt;dbl&gt; | tvalue &lt;dbl&gt; | pvalue &lt;dbl&gt; |\n|---|---|---|---|---|\n| (Intercept) | 27.125146216 | 2.475525163 | 10.957330 | 6.128069e-28 |\n| data_x$bui_median | 11.231471729 | 1.683833476 |  6.670180 | 2.554905e-11 |\n| data_x$pm2.5_median |  0.125860738 | 0.054661926 |  2.302530 | 2.130529e-02 |\n| data_x$elevation_median | -0.006501346 | 0.001176285 | -5.527017 | 3.257214e-08 |\n| data_x$rwi_weighted |  1.814092167 | 1.112401290 |  1.630789 | 1.029348e-01 |\n| data_x$jlh_fas_pddk |  0.021360448 | 0.010228527 |  2.088321 | 3.676889e-02 |\n| data_x$jlh_sarana_eko |  0.005425361 | 0.001050500 |  5.164551 | 2.410161e-07 |\n| data_x$jlh_tmpt_ibdh | -0.012501944 | 0.004113076 | -3.039561 | 2.369233e-03 |\n\n\n$refvar\n:   32.8778802910933\n$goodness\n:   loglike\n:   -1944.84687058067AIC\n:   3907.69374116133BIC\n:   3946.83599208375KIC\n:   3916.69374116133\n\n\n\n\n",
            "text/latex": "\\begin{description}\n\\item[\\$method] 'REML'\n\\item[\\$convergence] TRUE\n\\item[\\$iterations] 5\n\\item[\\$estcoef] A data.frame: 8 × 4\n\\begin{tabular}{r|llll}\n  & beta & std.error & tvalue & pvalue\\\\\n  & <dbl> & <dbl> & <dbl> & <dbl>\\\\\n\\hline\n\t(Intercept) & 27.125146216 & 2.475525163 & 10.957330 & 6.128069e-28\\\\\n\tdata\\_x\\$bui\\_median & 11.231471729 & 1.683833476 &  6.670180 & 2.554905e-11\\\\\n\tdata\\_x\\$pm2.5\\_median &  0.125860738 & 0.054661926 &  2.302530 & 2.130529e-02\\\\\n\tdata\\_x\\$elevation\\_median & -0.006501346 & 0.001176285 & -5.527017 & 3.257214e-08\\\\\n\tdata\\_x\\$rwi\\_weighted &  1.814092167 & 1.112401290 &  1.630789 & 1.029348e-01\\\\\n\tdata\\_x\\$jlh\\_fas\\_pddk &  0.021360448 & 0.010228527 &  2.088321 & 3.676889e-02\\\\\n\tdata\\_x\\$jlh\\_sarana\\_eko &  0.005425361 & 0.001050500 &  5.164551 & 2.410161e-07\\\\\n\tdata\\_x\\$jlh\\_tmpt\\_ibdh & -0.012501944 & 0.004113076 & -3.039561 & 2.369233e-03\\\\\n\\end{tabular}\n\n\\item[\\$refvar] 32.8778802910933\n\\item[\\$goodness] \\begin{description*}\n\\item[loglike] -1944.84687058067\n\\item[AIC] 3907.69374116133\n\\item[BIC] 3946.83599208375\n\\item[KIC] 3916.69374116133\n\\end{description*}\n\n\\end{description}\n",
            "text/plain": [
              "$method\n",
              "[1] \"REML\"\n",
              "\n",
              "$convergence\n",
              "[1] TRUE\n",
              "\n",
              "$iterations\n",
              "[1] 5\n",
              "\n",
              "$estcoef\n",
              "                                beta   std.error    tvalue       pvalue\n",
              "(Intercept)             27.125146216 2.475525163 10.957330 6.128069e-28\n",
              "data_x$bui_median       11.231471729 1.683833476  6.670180 2.554905e-11\n",
              "data_x$pm2.5_median      0.125860738 0.054661926  2.302530 2.130529e-02\n",
              "data_x$elevation_median -0.006501346 0.001176285 -5.527017 3.257214e-08\n",
              "data_x$rwi_weighted      1.814092167 1.112401290  1.630789 1.029348e-01\n",
              "data_x$jlh_fas_pddk      0.021360448 0.010228527  2.088321 3.676889e-02\n",
              "data_x$jlh_sarana_eko    0.005425361 0.001050500  5.164551 2.410161e-07\n",
              "data_x$jlh_tmpt_ibdh    -0.012501944 0.004113076 -3.039561 2.369233e-03\n",
              "\n",
              "$refvar\n",
              "[1] 32.87788\n",
              "\n",
              "$goodness\n",
              "  loglike       AIC       BIC       KIC \n",
              "-1944.847  3907.694  3946.836  3916.694 \n"
            ]
          },
          "metadata": {}
        }
      ]
    },
    {
      "cell_type": "code",
      "source": [
        "model_eblup_fh3$fit"
      ],
      "metadata": {
        "colab": {
          "base_uri": "https://localhost:8080/",
          "height": 568
        },
        "id": "8egQX5vG1kzz",
        "outputId": "c8eec703-641a-4be6-f454-3cb9482d96e4"
      },
      "execution_count": 8,
      "outputs": [
        {
          "output_type": "display_data",
          "data": {
            "text/html": [
              "<dl>\n",
              "\t<dt>$method</dt>\n",
              "\t\t<dd>'REML'</dd>\n",
              "\t<dt>$convergence</dt>\n",
              "\t\t<dd>TRUE</dd>\n",
              "\t<dt>$iterations</dt>\n",
              "\t\t<dd>5</dd>\n",
              "\t<dt>$estcoef</dt>\n",
              "\t\t<dd><table class=\"dataframe\">\n",
              "<caption>A data.frame: 8 × 4</caption>\n",
              "<thead>\n",
              "\t<tr><th></th><th scope=col>beta</th><th scope=col>std.error</th><th scope=col>tvalue</th><th scope=col>pvalue</th></tr>\n",
              "\t<tr><th></th><th scope=col>&lt;dbl&gt;</th><th scope=col>&lt;dbl&gt;</th><th scope=col>&lt;dbl&gt;</th><th scope=col>&lt;dbl&gt;</th></tr>\n",
              "</thead>\n",
              "<tbody>\n",
              "\t<tr><th scope=row>(Intercept)</th><td>27.2381944336</td><td>2.4898148201</td><td>10.939847</td><td>7.432482e-28</td></tr>\n",
              "\t<tr><th scope=row>data_x$bui_median</th><td>10.6322404235</td><td>1.8189149728</td><td> 5.845375</td><td>5.054278e-09</td></tr>\n",
              "\t<tr><th scope=row>data_x$pm2.5_median</th><td> 0.1111841814</td><td>0.0563601531</td><td> 1.972744</td><td>4.852468e-02</td></tr>\n",
              "\t<tr><th scope=row>data_x$elevation_median</th><td>-0.0064694943</td><td>0.0011798076</td><td>-5.483516</td><td>4.169541e-08</td></tr>\n",
              "\t<tr><th scope=row>data_x$rwi_weighted</th><td> 1.3472267451</td><td>1.1599495314</td><td> 1.161453</td><td>2.454578e-01</td></tr>\n",
              "\t<tr><th scope=row>data_x$jlh_sarana_eko</th><td> 0.0059059815</td><td>0.0009985736</td><td> 5.914418</td><td>3.330516e-09</td></tr>\n",
              "\t<tr><th scope=row>data_x$jlh_tmpt_ibdh</th><td>-0.0051820153</td><td>0.0031905040</td><td>-1.624200</td><td>1.043332e-01</td></tr>\n",
              "\t<tr><th scope=row>data_x$kepadatan_penduduk</th><td> 0.0003670428</td><td>0.0002424891</td><td> 1.513646</td><td>1.301156e-01</td></tr>\n",
              "</tbody>\n",
              "</table>\n",
              "</dd>\n",
              "\t<dt>$refvar</dt>\n",
              "\t\t<dd>33.1515804878583</dd>\n",
              "\t<dt>$goodness</dt>\n",
              "\t\t<dd><style>\n",
              ".dl-inline {width: auto; margin:0; padding: 0}\n",
              ".dl-inline>dt, .dl-inline>dd {float: none; width: auto; display: inline-block}\n",
              ".dl-inline>dt::after {content: \":\\0020\"; padding-right: .5ex}\n",
              ".dl-inline>dt:not(:first-of-type) {padding-left: .5ex}\n",
              "</style><dl class=dl-inline><dt>loglike</dt><dd>-1945.89962991275</dd><dt>AIC</dt><dd>3909.79925982551</dd><dt>BIC</dt><dd>3948.94151074792</dd><dt>KIC</dt><dd>3918.79925982551</dd></dl>\n",
              "</dd>\n",
              "</dl>\n"
            ],
            "text/markdown": "$method\n:   'REML'\n$convergence\n:   TRUE\n$iterations\n:   5\n$estcoef\n:   \nA data.frame: 8 × 4\n\n| <!--/--> | beta &lt;dbl&gt; | std.error &lt;dbl&gt; | tvalue &lt;dbl&gt; | pvalue &lt;dbl&gt; |\n|---|---|---|---|---|\n| (Intercept) | 27.2381944336 | 2.4898148201 | 10.939847 | 7.432482e-28 |\n| data_x$bui_median | 10.6322404235 | 1.8189149728 |  5.845375 | 5.054278e-09 |\n| data_x$pm2.5_median |  0.1111841814 | 0.0563601531 |  1.972744 | 4.852468e-02 |\n| data_x$elevation_median | -0.0064694943 | 0.0011798076 | -5.483516 | 4.169541e-08 |\n| data_x$rwi_weighted |  1.3472267451 | 1.1599495314 |  1.161453 | 2.454578e-01 |\n| data_x$jlh_sarana_eko |  0.0059059815 | 0.0009985736 |  5.914418 | 3.330516e-09 |\n| data_x$jlh_tmpt_ibdh | -0.0051820153 | 0.0031905040 | -1.624200 | 1.043332e-01 |\n| data_x$kepadatan_penduduk |  0.0003670428 | 0.0002424891 |  1.513646 | 1.301156e-01 |\n\n\n$refvar\n:   33.1515804878583\n$goodness\n:   loglike\n:   -1945.89962991275AIC\n:   3909.79925982551BIC\n:   3948.94151074792KIC\n:   3918.79925982551\n\n\n\n\n",
            "text/latex": "\\begin{description}\n\\item[\\$method] 'REML'\n\\item[\\$convergence] TRUE\n\\item[\\$iterations] 5\n\\item[\\$estcoef] A data.frame: 8 × 4\n\\begin{tabular}{r|llll}\n  & beta & std.error & tvalue & pvalue\\\\\n  & <dbl> & <dbl> & <dbl> & <dbl>\\\\\n\\hline\n\t(Intercept) & 27.2381944336 & 2.4898148201 & 10.939847 & 7.432482e-28\\\\\n\tdata\\_x\\$bui\\_median & 10.6322404235 & 1.8189149728 &  5.845375 & 5.054278e-09\\\\\n\tdata\\_x\\$pm2.5\\_median &  0.1111841814 & 0.0563601531 &  1.972744 & 4.852468e-02\\\\\n\tdata\\_x\\$elevation\\_median & -0.0064694943 & 0.0011798076 & -5.483516 & 4.169541e-08\\\\\n\tdata\\_x\\$rwi\\_weighted &  1.3472267451 & 1.1599495314 &  1.161453 & 2.454578e-01\\\\\n\tdata\\_x\\$jlh\\_sarana\\_eko &  0.0059059815 & 0.0009985736 &  5.914418 & 3.330516e-09\\\\\n\tdata\\_x\\$jlh\\_tmpt\\_ibdh & -0.0051820153 & 0.0031905040 & -1.624200 & 1.043332e-01\\\\\n\tdata\\_x\\$kepadatan\\_penduduk &  0.0003670428 & 0.0002424891 &  1.513646 & 1.301156e-01\\\\\n\\end{tabular}\n\n\\item[\\$refvar] 33.1515804878583\n\\item[\\$goodness] \\begin{description*}\n\\item[loglike] -1945.89962991275\n\\item[AIC] 3909.79925982551\n\\item[BIC] 3948.94151074792\n\\item[KIC] 3918.79925982551\n\\end{description*}\n\n\\end{description}\n",
            "text/plain": [
              "$method\n",
              "[1] \"REML\"\n",
              "\n",
              "$convergence\n",
              "[1] TRUE\n",
              "\n",
              "$iterations\n",
              "[1] 5\n",
              "\n",
              "$estcoef\n",
              "                                   beta    std.error    tvalue       pvalue\n",
              "(Intercept)               27.2381944336 2.4898148201 10.939847 7.432482e-28\n",
              "data_x$bui_median         10.6322404235 1.8189149728  5.845375 5.054278e-09\n",
              "data_x$pm2.5_median        0.1111841814 0.0563601531  1.972744 4.852468e-02\n",
              "data_x$elevation_median   -0.0064694943 0.0011798076 -5.483516 4.169541e-08\n",
              "data_x$rwi_weighted        1.3472267451 1.1599495314  1.161453 2.454578e-01\n",
              "data_x$jlh_sarana_eko      0.0059059815 0.0009985736  5.914418 3.330516e-09\n",
              "data_x$jlh_tmpt_ibdh      -0.0051820153 0.0031905040 -1.624200 1.043332e-01\n",
              "data_x$kepadatan_penduduk  0.0003670428 0.0002424891  1.513646 1.301156e-01\n",
              "\n",
              "$refvar\n",
              "[1] 33.15158\n",
              "\n",
              "$goodness\n",
              "  loglike       AIC       BIC       KIC \n",
              "-1945.900  3909.799  3948.942  3918.799 \n"
            ]
          },
          "metadata": {}
        }
      ]
    },
    {
      "cell_type": "code",
      "source": [
        "model_eblup_fh4$fit # model yang dipilih"
      ],
      "metadata": {
        "colab": {
          "base_uri": "https://localhost:8080/",
          "height": 537
        },
        "id": "OKMwe5V_1y65",
        "outputId": "313d92cc-21d2-4e53-fba0-a204c394f656"
      },
      "execution_count": 9,
      "outputs": [
        {
          "output_type": "display_data",
          "data": {
            "text/html": [
              "<dl>\n",
              "\t<dt>$method</dt>\n",
              "\t\t<dd>'REML'</dd>\n",
              "\t<dt>$convergence</dt>\n",
              "\t\t<dd>TRUE</dd>\n",
              "\t<dt>$iterations</dt>\n",
              "\t\t<dd>5</dd>\n",
              "\t<dt>$estcoef</dt>\n",
              "\t\t<dd><table class=\"dataframe\">\n",
              "<caption>A data.frame: 7 × 4</caption>\n",
              "<thead>\n",
              "\t<tr><th></th><th scope=col>beta</th><th scope=col>std.error</th><th scope=col>tvalue</th><th scope=col>pvalue</th></tr>\n",
              "\t<tr><th></th><th scope=col>&lt;dbl&gt;</th><th scope=col>&lt;dbl&gt;</th><th scope=col>&lt;dbl&gt;</th><th scope=col>&lt;dbl&gt;</th></tr>\n",
              "</thead>\n",
              "<tbody>\n",
              "\t<tr><th scope=row>(Intercept)</th><td>27.802451538</td><td>2.4604942663</td><td>11.299539</td><td>1.319082e-29</td></tr>\n",
              "\t<tr><th scope=row>data_x$bui_median</th><td>11.712311527</td><td>1.6722258783</td><td> 7.004025</td><td>2.487121e-12</td></tr>\n",
              "\t<tr><th scope=row>data_x$pm2.5_median</th><td> 0.131256227</td><td>0.0547447666</td><td> 2.397603</td><td>1.650273e-02</td></tr>\n",
              "\t<tr><th scope=row>data_x$elevation_median</th><td>-0.006440004</td><td>0.0011790214</td><td>-5.462160</td><td>4.703753e-08</td></tr>\n",
              "\t<tr><th scope=row>data_x$rwi_weighted</th><td> 1.826454799</td><td>1.1152188185</td><td> 1.637755</td><td>1.014729e-01</td></tr>\n",
              "\t<tr><th scope=row>data_x$jlh_sarana_eko</th><td> 0.006367563</td><td>0.0009504985</td><td> 6.699182</td><td>2.095895e-11</td></tr>\n",
              "\t<tr><th scope=row>data_x$jlh_tmpt_ibdh</th><td>-0.006677741</td><td>0.0030322426</td><td>-2.202245</td><td>2.764802e-02</td></tr>\n",
              "</tbody>\n",
              "</table>\n",
              "</dd>\n",
              "\t<dt>$refvar</dt>\n",
              "\t\t<dd>33.1056256507713</dd>\n",
              "\t<dt>$goodness</dt>\n",
              "\t\t<dd><style>\n",
              ".dl-inline {width: auto; margin:0; padding: 0}\n",
              ".dl-inline>dt, .dl-inline>dd {float: none; width: auto; display: inline-block}\n",
              ".dl-inline>dt::after {content: \":\\0020\"; padding-right: .5ex}\n",
              ".dl-inline>dt:not(:first-of-type) {padding-left: .5ex}\n",
              "</style><dl class=dl-inline><dt>loglike</dt><dd>-1947.04149813844</dd><dt>AIC</dt><dd>3910.08299627688</dd><dt>BIC</dt><dd>3944.87610820792</dd><dt>KIC</dt><dd>3918.08299627688</dd></dl>\n",
              "</dd>\n",
              "</dl>\n"
            ],
            "text/markdown": "$method\n:   'REML'\n$convergence\n:   TRUE\n$iterations\n:   5\n$estcoef\n:   \nA data.frame: 7 × 4\n\n| <!--/--> | beta &lt;dbl&gt; | std.error &lt;dbl&gt; | tvalue &lt;dbl&gt; | pvalue &lt;dbl&gt; |\n|---|---|---|---|---|\n| (Intercept) | 27.802451538 | 2.4604942663 | 11.299539 | 1.319082e-29 |\n| data_x$bui_median | 11.712311527 | 1.6722258783 |  7.004025 | 2.487121e-12 |\n| data_x$pm2.5_median |  0.131256227 | 0.0547447666 |  2.397603 | 1.650273e-02 |\n| data_x$elevation_median | -0.006440004 | 0.0011790214 | -5.462160 | 4.703753e-08 |\n| data_x$rwi_weighted |  1.826454799 | 1.1152188185 |  1.637755 | 1.014729e-01 |\n| data_x$jlh_sarana_eko |  0.006367563 | 0.0009504985 |  6.699182 | 2.095895e-11 |\n| data_x$jlh_tmpt_ibdh | -0.006677741 | 0.0030322426 | -2.202245 | 2.764802e-02 |\n\n\n$refvar\n:   33.1056256507713\n$goodness\n:   loglike\n:   -1947.04149813844AIC\n:   3910.08299627688BIC\n:   3944.87610820792KIC\n:   3918.08299627688\n\n\n\n\n",
            "text/latex": "\\begin{description}\n\\item[\\$method] 'REML'\n\\item[\\$convergence] TRUE\n\\item[\\$iterations] 5\n\\item[\\$estcoef] A data.frame: 7 × 4\n\\begin{tabular}{r|llll}\n  & beta & std.error & tvalue & pvalue\\\\\n  & <dbl> & <dbl> & <dbl> & <dbl>\\\\\n\\hline\n\t(Intercept) & 27.802451538 & 2.4604942663 & 11.299539 & 1.319082e-29\\\\\n\tdata\\_x\\$bui\\_median & 11.712311527 & 1.6722258783 &  7.004025 & 2.487121e-12\\\\\n\tdata\\_x\\$pm2.5\\_median &  0.131256227 & 0.0547447666 &  2.397603 & 1.650273e-02\\\\\n\tdata\\_x\\$elevation\\_median & -0.006440004 & 0.0011790214 & -5.462160 & 4.703753e-08\\\\\n\tdata\\_x\\$rwi\\_weighted &  1.826454799 & 1.1152188185 &  1.637755 & 1.014729e-01\\\\\n\tdata\\_x\\$jlh\\_sarana\\_eko &  0.006367563 & 0.0009504985 &  6.699182 & 2.095895e-11\\\\\n\tdata\\_x\\$jlh\\_tmpt\\_ibdh & -0.006677741 & 0.0030322426 & -2.202245 & 2.764802e-02\\\\\n\\end{tabular}\n\n\\item[\\$refvar] 33.1056256507713\n\\item[\\$goodness] \\begin{description*}\n\\item[loglike] -1947.04149813844\n\\item[AIC] 3910.08299627688\n\\item[BIC] 3944.87610820792\n\\item[KIC] 3918.08299627688\n\\end{description*}\n\n\\end{description}\n",
            "text/plain": [
              "$method\n",
              "[1] \"REML\"\n",
              "\n",
              "$convergence\n",
              "[1] TRUE\n",
              "\n",
              "$iterations\n",
              "[1] 5\n",
              "\n",
              "$estcoef\n",
              "                                beta    std.error    tvalue       pvalue\n",
              "(Intercept)             27.802451538 2.4604942663 11.299539 1.319082e-29\n",
              "data_x$bui_median       11.712311527 1.6722258783  7.004025 2.487121e-12\n",
              "data_x$pm2.5_median      0.131256227 0.0547447666  2.397603 1.650273e-02\n",
              "data_x$elevation_median -0.006440004 0.0011790214 -5.462160 4.703753e-08\n",
              "data_x$rwi_weighted      1.826454799 1.1152188185  1.637755 1.014729e-01\n",
              "data_x$jlh_sarana_eko    0.006367563 0.0009504985  6.699182 2.095895e-11\n",
              "data_x$jlh_tmpt_ibdh    -0.006677741 0.0030322426 -2.202245 2.764802e-02\n",
              "\n",
              "$refvar\n",
              "[1] 33.10563\n",
              "\n",
              "$goodness\n",
              "  loglike       AIC       BIC       KIC \n",
              "-1947.041  3910.083  3944.876  3918.083 \n"
            ]
          },
          "metadata": {}
        }
      ]
    },
    {
      "cell_type": "markdown",
      "source": [
        "# Ekstrak Hasil Estimasi Model\n"
      ],
      "metadata": {
        "id": "_woHaWYrpZYE"
      }
    },
    {
      "cell_type": "code",
      "source": [
        "# Ekstrak hasil estimasi model EBLUP-FH\n",
        "y_eblup <- model_eblup_fh4$eblup\n",
        "# Ekstrak koefisien ragam pengaruh acak\n",
        "var_rand_eblup <- model_eblup_fh4$fit$refvar\n",
        "# Ekstrak nilai random effect area\n",
        "jlh_baris <- nrow(dataset)\n",
        "var_x <- matrix(c(data_x$bui_median + data_x$pm2.5_median + data_x$elevation_median + data_x$rwi_weighted + data_x$jlh_sarana_eko + data_x$jlh_tmpt_ibdh), nrow=jlh_baris, ncol=6)\n",
        "beta <- matrix(model_eblup_fh4$fit$estcoef$beta, ncol = 1)\n",
        "beta_no_intercept <- matrix(beta[-1,], ncol = 1)\n",
        "gama <- model_eblup_fh4$fit$refvar/(model_eblup_fh4$fit$refvar+hasil_est_lgsg$Var)\n",
        "y_mat <- matrix(hasil_est_lgsg$Konsumsi_Listrik_Kapita, ncol = 1)\n",
        "rand_effect_eblup <- gama*(y_mat-var_x%*%beta_no_intercept)\n",
        "# Ekstrak nilai residual\n",
        "res_y_eblup <- hasil_est_lgsg$Konsumsi_Listrik_Kapita - y_eblup\n",
        "# Uji normalitas random effect area dan residual\n",
        "ks.test(rand_effect_eblup, \"pnorm\", mean(rand_effect_eblup), sd(rand_effect_eblup))\n",
        "ks.test(res_y_eblup, \"pnorm\", mean(res_y_eblup), sd(res_y_eblup))\n",
        "# Ekstrak nilai MSE dan RRMSE model EBLUP-FH\n",
        "mse_eblup <- mseFH(hasil_est_lgsg$Konsumsi_Listrik_Kapita ~ data_x$bui_median + data_x$pm2.5_median + data_x$elevation_median + data_x$rwi_weighted + data_x$jlh_sarana_eko + data_x$jlh_tmpt_ibdh, hasil_est_lgsg$Var, method=\"REML\")\n",
        "mse_fh <- mse_eblup$mse\n",
        "rrmse_fh <- (sqrt(mse_fh)/y_eblup)*100"
      ],
      "metadata": {
        "colab": {
          "base_uri": "https://localhost:8080/",
          "height": 260
        },
        "id": "xWZR_NmBpcdw",
        "outputId": "b07dad74-ead2-4e09-ee57-defd58a8f48f"
      },
      "execution_count": 10,
      "outputs": [
        {
          "output_type": "display_data",
          "data": {
            "text/plain": [
              "\n",
              "\tAsymptotic one-sample Kolmogorov-Smirnov test\n",
              "\n",
              "data:  rand_effect_eblup\n",
              "D = 0.041826, p-value = 0.2696\n",
              "alternative hypothesis: two-sided\n"
            ]
          },
          "metadata": {}
        },
        {
          "output_type": "stream",
          "name": "stderr",
          "text": [
            "Warning message in ks.test.default(res_y_eblup, \"pnorm\", mean(res_y_eblup), sd(res_y_eblup)):\n",
            "“ties should not be present for the Kolmogorov-Smirnov test”\n"
          ]
        },
        {
          "output_type": "display_data",
          "data": {
            "text/plain": [
              "\n",
              "\tAsymptotic one-sample Kolmogorov-Smirnov test\n",
              "\n",
              "data:  res_y_eblup\n",
              "D = 0.25414, p-value < 2.2e-16\n",
              "alternative hypothesis: two-sided\n"
            ]
          },
          "metadata": {}
        }
      ]
    },
    {
      "cell_type": "markdown",
      "source": [
        "# Ekspor Hasil Estimasi Model"
      ],
      "metadata": {
        "id": "81QToT00w3Zd"
      }
    },
    {
      "cell_type": "code",
      "source": [
        "data_est_eblupFH <- NULL\n",
        "data_est_eblupFH <- cbind(hasil_est_lgsg[,c(1,2,3)], y_eblup, mse_fh, rrmse_fh)\n",
        "names(data_est_eblupFH) <- c(\"No\", \"KodeKec\", \"NamaKec\", \"Penduga_EBLUP_FH\", \"MSE_EBLUP_FH\",\"RRMSE_EBLUP_FH\")\n",
        "# write.csv(data_est_eblupFH,\"Hasil_Estimasi_EBLUP_FH_MODEL.csv\")\n",
        "data_est_eblupFH"
      ],
      "metadata": {
        "colab": {
          "base_uri": "https://localhost:8080/",
          "height": 1000
        },
        "id": "XSDGzJ9VxADv",
        "outputId": "7fea9a88-027e-4445-e8b8-3d803313b1e9"
      },
      "execution_count": 12,
      "outputs": [
        {
          "output_type": "display_data",
          "data": {
            "text/html": [
              "<table class=\"dataframe\">\n",
              "<caption>A data.frame: 572 × 6</caption>\n",
              "<thead>\n",
              "\t<tr><th></th><th scope=col>No</th><th scope=col>KodeKec</th><th scope=col>NamaKec</th><th scope=col>Penduga_EBLUP_FH</th><th scope=col>MSE_EBLUP_FH</th><th scope=col>RRMSE_EBLUP_FH</th></tr>\n",
              "\t<tr><th></th><th scope=col>&lt;dbl&gt;</th><th scope=col>&lt;dbl&gt;</th><th scope=col>&lt;chr&gt;</th><th scope=col>&lt;dbl&gt;</th><th scope=col>&lt;dbl&gt;</th><th scope=col>&lt;dbl&gt;</th></tr>\n",
              "</thead>\n",
              "<tbody>\n",
              "\t<tr><th scope=row>1</th><td> 1</td><td>3301010</td><td>Dayeuhluhur    </td><td>23.25242</td><td> 4.3761324</td><td> 8.996574</td></tr>\n",
              "\t<tr><th scope=row>2</th><td> 2</td><td>3301020</td><td>Wanareja       </td><td>16.65922</td><td> 3.1301891</td><td>10.620152</td></tr>\n",
              "\t<tr><th scope=row>3</th><td> 3</td><td>3301030</td><td>Majenang       </td><td>20.01924</td><td> 5.1615108</td><td>11.348561</td></tr>\n",
              "\t<tr><th scope=row>4</th><td> 4</td><td>3301040</td><td>Cimanggu       </td><td>20.29747</td><td> 7.3783785</td><td>13.382540</td></tr>\n",
              "\t<tr><th scope=row>5</th><td> 5</td><td>3301050</td><td>Karangpucung   </td><td>21.72875</td><td>18.4468478</td><td>19.766342</td></tr>\n",
              "\t<tr><th scope=row>6</th><td> 6</td><td>3301060</td><td>Cipari         </td><td>14.63480</td><td> 0.5692794</td><td> 5.155560</td></tr>\n",
              "\t<tr><th scope=row>7</th><td> 7</td><td>3301070</td><td>Sidareja       </td><td>26.95010</td><td>14.9783404</td><td>14.360562</td></tr>\n",
              "\t<tr><th scope=row>8</th><td> 8</td><td>3301080</td><td>Kedungreja     </td><td>14.69054</td><td> 5.8400773</td><td>16.450218</td></tr>\n",
              "\t<tr><th scope=row>9</th><td> 9</td><td>3301090</td><td>Patimuan       </td><td>18.87251</td><td> 6.7976296</td><td>13.814942</td></tr>\n",
              "\t<tr><th scope=row>10</th><td>10</td><td>3301100</td><td>Gandrungmangu  </td><td>18.80593</td><td> 5.3928410</td><td>12.348495</td></tr>\n",
              "\t<tr><th scope=row>11</th><td>11</td><td>3301110</td><td>Bantarsari     </td><td>19.03947</td><td>13.6684754</td><td>19.418029</td></tr>\n",
              "\t<tr><th scope=row>12</th><td>12</td><td>3301120</td><td>Kawunganten    </td><td>25.80180</td><td>21.9063690</td><td>18.139912</td></tr>\n",
              "\t<tr><th scope=row>13</th><td>13</td><td>3301121</td><td>Kampung Laut   </td><td>19.34999</td><td>10.8874459</td><td>17.052269</td></tr>\n",
              "\t<tr><th scope=row>14</th><td>14</td><td>3301130</td><td>Jeruklegi      </td><td>23.30861</td><td>23.3741751</td><td>20.742059</td></tr>\n",
              "\t<tr><th scope=row>15</th><td>15</td><td>3301140</td><td>Kesugihan      </td><td>22.31882</td><td>15.6579924</td><td>17.729511</td></tr>\n",
              "\t<tr><th scope=row>16</th><td>16</td><td>3301150</td><td>Adipala        </td><td>30.84142</td><td>20.7210106</td><td>14.759483</td></tr>\n",
              "\t<tr><th scope=row>17</th><td>17</td><td>3301160</td><td>Maos           </td><td>42.19400</td><td> 0.0000000</td><td> 0.000000</td></tr>\n",
              "\t<tr><th scope=row>18</th><td>18</td><td>3301170</td><td>Sampang        </td><td>29.91523</td><td>21.6643176</td><td>15.558944</td></tr>\n",
              "\t<tr><th scope=row>19</th><td>19</td><td>3301180</td><td>Kroya          </td><td>28.87789</td><td> 6.6717692</td><td> 8.944480</td></tr>\n",
              "\t<tr><th scope=row>20</th><td>20</td><td>3301190</td><td>Binangun       </td><td>26.98962</td><td>26.6690806</td><td>19.134066</td></tr>\n",
              "\t<tr><th scope=row>21</th><td>21</td><td>3301200</td><td>Nusawungu      </td><td>44.48620</td><td> 1.9892656</td><td> 3.170451</td></tr>\n",
              "\t<tr><th scope=row>22</th><td>22</td><td>3301710</td><td>Cilacap Selatan</td><td>31.56026</td><td>19.4138145</td><td>13.960945</td></tr>\n",
              "\t<tr><th scope=row>23</th><td>23</td><td>3301720</td><td>Cilacap Tengah </td><td>32.19672</td><td>21.7116870</td><td>14.472218</td></tr>\n",
              "\t<tr><th scope=row>24</th><td>24</td><td>3301730</td><td>Cilacap Utara  </td><td>21.05925</td><td> 1.8439647</td><td> 6.448125</td></tr>\n",
              "\t<tr><th scope=row>25</th><td>25</td><td>3302010</td><td>Lumbir         </td><td>24.64509</td><td> 1.2178611</td><td> 4.477839</td></tr>\n",
              "\t<tr><th scope=row>26</th><td>26</td><td>3302020</td><td>Wangon         </td><td>22.17092</td><td> 8.3307731</td><td>13.018438</td></tr>\n",
              "\t<tr><th scope=row>27</th><td>27</td><td>3302030</td><td>Jatilawang     </td><td>22.99680</td><td> 7.9125836</td><td>12.231837</td></tr>\n",
              "\t<tr><th scope=row>28</th><td>28</td><td>3302040</td><td>Rawalo         </td><td>27.58375</td><td>27.8088885</td><td>19.117825</td></tr>\n",
              "\t<tr><th scope=row>29</th><td>29</td><td>3302050</td><td>Kebasen        </td><td>23.88514</td><td> 3.3760432</td><td> 7.692654</td></tr>\n",
              "\t<tr><th scope=row>30</th><td>30</td><td>3302060</td><td>Kemranjen      </td><td>25.20502</td><td>17.3564769</td><td>16.528894</td></tr>\n",
              "\t<tr><th scope=row>⋮</th><td>⋮</td><td>⋮</td><td>⋮</td><td>⋮</td><td>⋮</td><td>⋮</td></tr>\n",
              "\t<tr><th scope=row>543</th><td>543</td><td>3372040</td><td>Jebres            </td><td>42.37408</td><td>10.776883</td><td> 7.747227</td></tr>\n",
              "\t<tr><th scope=row>544</th><td>544</td><td>3372050</td><td>Banjarsari        </td><td>49.99652</td><td>24.142783</td><td> 9.827745</td></tr>\n",
              "\t<tr><th scope=row>545</th><td>545</td><td>3373010</td><td>Argomulyo         </td><td>27.91386</td><td> 3.622602</td><td> 6.818523</td></tr>\n",
              "\t<tr><th scope=row>546</th><td>546</td><td>3373020</td><td>Tingkir           </td><td>30.77902</td><td> 6.559269</td><td> 8.320949</td></tr>\n",
              "\t<tr><th scope=row>547</th><td>547</td><td>3373030</td><td>Sidomukti         </td><td>32.57765</td><td> 6.239324</td><td> 7.667417</td></tr>\n",
              "\t<tr><th scope=row>548</th><td>548</td><td>3373040</td><td>Sidorejo          </td><td>30.90449</td><td> 5.609707</td><td> 7.663877</td></tr>\n",
              "\t<tr><th scope=row>549</th><td>549</td><td>3374010</td><td>Mijen             </td><td>27.87883</td><td>32.145218</td><td>20.336844</td></tr>\n",
              "\t<tr><th scope=row>550</th><td>550</td><td>3374020</td><td>Gunung Pati       </td><td>27.36789</td><td>10.776884</td><td>11.995141</td></tr>\n",
              "\t<tr><th scope=row>551</th><td>551</td><td>3374030</td><td>Banyumanik        </td><td>40.74019</td><td>21.355415</td><td>11.343079</td></tr>\n",
              "\t<tr><th scope=row>552</th><td>552</td><td>3374040</td><td>Gajah Mungkur     </td><td>42.96315</td><td>27.825602</td><td>12.277958</td></tr>\n",
              "\t<tr><th scope=row>553</th><td>553</td><td>3374050</td><td>Semarang Selatan  </td><td>39.10083</td><td>11.152558</td><td> 8.540854</td></tr>\n",
              "\t<tr><th scope=row>554</th><td>554</td><td>3374060</td><td>Candisari         </td><td>36.62706</td><td>24.315908</td><td>13.463043</td></tr>\n",
              "\t<tr><th scope=row>555</th><td>555</td><td>3374070</td><td>Tembalang         </td><td>44.87344</td><td>21.022990</td><td>10.217811</td></tr>\n",
              "\t<tr><th scope=row>556</th><td>556</td><td>3374080</td><td>Pedurungan        </td><td>48.22320</td><td>28.501521</td><td>11.070774</td></tr>\n",
              "\t<tr><th scope=row>557</th><td>557</td><td>3374090</td><td>Genuk             </td><td>36.49714</td><td> 8.731792</td><td> 8.096417</td></tr>\n",
              "\t<tr><th scope=row>558</th><td>558</td><td>3374100</td><td>Gayamsari         </td><td>38.82916</td><td>24.724784</td><td>12.805844</td></tr>\n",
              "\t<tr><th scope=row>559</th><td>559</td><td>3374110</td><td>Semarang Timur    </td><td>41.77158</td><td>25.930112</td><td>12.190494</td></tr>\n",
              "\t<tr><th scope=row>560</th><td>560</td><td>3374120</td><td>Semarang Utara    </td><td>47.05614</td><td>26.920824</td><td>11.026251</td></tr>\n",
              "\t<tr><th scope=row>561</th><td>561</td><td>3374130</td><td>Semarang Tengah   </td><td>36.56151</td><td>16.950881</td><td>11.260872</td></tr>\n",
              "\t<tr><th scope=row>562</th><td>562</td><td>3374140</td><td>Semarang Barat    </td><td>53.31503</td><td>30.248554</td><td>10.315793</td></tr>\n",
              "\t<tr><th scope=row>563</th><td>563</td><td>3374150</td><td>Tugu              </td><td>32.94726</td><td>33.335248</td><td>17.523973</td></tr>\n",
              "\t<tr><th scope=row>564</th><td>564</td><td>3374160</td><td>Ngaliyan          </td><td>34.38674</td><td>19.258995</td><td>12.762206</td></tr>\n",
              "\t<tr><th scope=row>565</th><td>565</td><td>3375010</td><td>Pekalongan Barat  </td><td>34.23614</td><td> 8.892543</td><td> 8.710201</td></tr>\n",
              "\t<tr><th scope=row>566</th><td>566</td><td>3375020</td><td>Pekalongan Timur  </td><td>38.74481</td><td>19.726670</td><td>11.463397</td></tr>\n",
              "\t<tr><th scope=row>567</th><td>567</td><td>3375030</td><td>Pekalongan Selatan</td><td>29.88476</td><td> 7.781721</td><td> 9.334437</td></tr>\n",
              "\t<tr><th scope=row>568</th><td>568</td><td>3375040</td><td>Pekalongan Utara  </td><td>42.03132</td><td>20.422872</td><td>10.751904</td></tr>\n",
              "\t<tr><th scope=row>569</th><td>569</td><td>3376010</td><td>Tegal Selatan     </td><td>37.01530</td><td> 9.566342</td><td> 8.355869</td></tr>\n",
              "\t<tr><th scope=row>570</th><td>570</td><td>3376020</td><td>Tegal Timur       </td><td>47.00990</td><td>21.290851</td><td> 9.815381</td></tr>\n",
              "\t<tr><th scope=row>571</th><td>571</td><td>3376030</td><td>Tegal Barat       </td><td>41.65420</td><td>18.668465</td><td>10.372789</td></tr>\n",
              "\t<tr><th scope=row>572</th><td>572</td><td>3376040</td><td>Margadana         </td><td>36.02859</td><td>23.462917</td><td>13.444472</td></tr>\n",
              "</tbody>\n",
              "</table>\n"
            ],
            "text/markdown": "\nA data.frame: 572 × 6\n\n| <!--/--> | No &lt;dbl&gt; | KodeKec &lt;dbl&gt; | NamaKec &lt;chr&gt; | Penduga_EBLUP_FH &lt;dbl&gt; | MSE_EBLUP_FH &lt;dbl&gt; | RRMSE_EBLUP_FH &lt;dbl&gt; |\n|---|---|---|---|---|---|---|\n| 1 |  1 | 3301010 | Dayeuhluhur     | 23.25242 |  4.3761324 |  8.996574 |\n| 2 |  2 | 3301020 | Wanareja        | 16.65922 |  3.1301891 | 10.620152 |\n| 3 |  3 | 3301030 | Majenang        | 20.01924 |  5.1615108 | 11.348561 |\n| 4 |  4 | 3301040 | Cimanggu        | 20.29747 |  7.3783785 | 13.382540 |\n| 5 |  5 | 3301050 | Karangpucung    | 21.72875 | 18.4468478 | 19.766342 |\n| 6 |  6 | 3301060 | Cipari          | 14.63480 |  0.5692794 |  5.155560 |\n| 7 |  7 | 3301070 | Sidareja        | 26.95010 | 14.9783404 | 14.360562 |\n| 8 |  8 | 3301080 | Kedungreja      | 14.69054 |  5.8400773 | 16.450218 |\n| 9 |  9 | 3301090 | Patimuan        | 18.87251 |  6.7976296 | 13.814942 |\n| 10 | 10 | 3301100 | Gandrungmangu   | 18.80593 |  5.3928410 | 12.348495 |\n| 11 | 11 | 3301110 | Bantarsari      | 19.03947 | 13.6684754 | 19.418029 |\n| 12 | 12 | 3301120 | Kawunganten     | 25.80180 | 21.9063690 | 18.139912 |\n| 13 | 13 | 3301121 | Kampung Laut    | 19.34999 | 10.8874459 | 17.052269 |\n| 14 | 14 | 3301130 | Jeruklegi       | 23.30861 | 23.3741751 | 20.742059 |\n| 15 | 15 | 3301140 | Kesugihan       | 22.31882 | 15.6579924 | 17.729511 |\n| 16 | 16 | 3301150 | Adipala         | 30.84142 | 20.7210106 | 14.759483 |\n| 17 | 17 | 3301160 | Maos            | 42.19400 |  0.0000000 |  0.000000 |\n| 18 | 18 | 3301170 | Sampang         | 29.91523 | 21.6643176 | 15.558944 |\n| 19 | 19 | 3301180 | Kroya           | 28.87789 |  6.6717692 |  8.944480 |\n| 20 | 20 | 3301190 | Binangun        | 26.98962 | 26.6690806 | 19.134066 |\n| 21 | 21 | 3301200 | Nusawungu       | 44.48620 |  1.9892656 |  3.170451 |\n| 22 | 22 | 3301710 | Cilacap Selatan | 31.56026 | 19.4138145 | 13.960945 |\n| 23 | 23 | 3301720 | Cilacap Tengah  | 32.19672 | 21.7116870 | 14.472218 |\n| 24 | 24 | 3301730 | Cilacap Utara   | 21.05925 |  1.8439647 |  6.448125 |\n| 25 | 25 | 3302010 | Lumbir          | 24.64509 |  1.2178611 |  4.477839 |\n| 26 | 26 | 3302020 | Wangon          | 22.17092 |  8.3307731 | 13.018438 |\n| 27 | 27 | 3302030 | Jatilawang      | 22.99680 |  7.9125836 | 12.231837 |\n| 28 | 28 | 3302040 | Rawalo          | 27.58375 | 27.8088885 | 19.117825 |\n| 29 | 29 | 3302050 | Kebasen         | 23.88514 |  3.3760432 |  7.692654 |\n| 30 | 30 | 3302060 | Kemranjen       | 25.20502 | 17.3564769 | 16.528894 |\n| ⋮ | ⋮ | ⋮ | ⋮ | ⋮ | ⋮ | ⋮ |\n| 543 | 543 | 3372040 | Jebres             | 42.37408 | 10.776883 |  7.747227 |\n| 544 | 544 | 3372050 | Banjarsari         | 49.99652 | 24.142783 |  9.827745 |\n| 545 | 545 | 3373010 | Argomulyo          | 27.91386 |  3.622602 |  6.818523 |\n| 546 | 546 | 3373020 | Tingkir            | 30.77902 |  6.559269 |  8.320949 |\n| 547 | 547 | 3373030 | Sidomukti          | 32.57765 |  6.239324 |  7.667417 |\n| 548 | 548 | 3373040 | Sidorejo           | 30.90449 |  5.609707 |  7.663877 |\n| 549 | 549 | 3374010 | Mijen              | 27.87883 | 32.145218 | 20.336844 |\n| 550 | 550 | 3374020 | Gunung Pati        | 27.36789 | 10.776884 | 11.995141 |\n| 551 | 551 | 3374030 | Banyumanik         | 40.74019 | 21.355415 | 11.343079 |\n| 552 | 552 | 3374040 | Gajah Mungkur      | 42.96315 | 27.825602 | 12.277958 |\n| 553 | 553 | 3374050 | Semarang Selatan   | 39.10083 | 11.152558 |  8.540854 |\n| 554 | 554 | 3374060 | Candisari          | 36.62706 | 24.315908 | 13.463043 |\n| 555 | 555 | 3374070 | Tembalang          | 44.87344 | 21.022990 | 10.217811 |\n| 556 | 556 | 3374080 | Pedurungan         | 48.22320 | 28.501521 | 11.070774 |\n| 557 | 557 | 3374090 | Genuk              | 36.49714 |  8.731792 |  8.096417 |\n| 558 | 558 | 3374100 | Gayamsari          | 38.82916 | 24.724784 | 12.805844 |\n| 559 | 559 | 3374110 | Semarang Timur     | 41.77158 | 25.930112 | 12.190494 |\n| 560 | 560 | 3374120 | Semarang Utara     | 47.05614 | 26.920824 | 11.026251 |\n| 561 | 561 | 3374130 | Semarang Tengah    | 36.56151 | 16.950881 | 11.260872 |\n| 562 | 562 | 3374140 | Semarang Barat     | 53.31503 | 30.248554 | 10.315793 |\n| 563 | 563 | 3374150 | Tugu               | 32.94726 | 33.335248 | 17.523973 |\n| 564 | 564 | 3374160 | Ngaliyan           | 34.38674 | 19.258995 | 12.762206 |\n| 565 | 565 | 3375010 | Pekalongan Barat   | 34.23614 |  8.892543 |  8.710201 |\n| 566 | 566 | 3375020 | Pekalongan Timur   | 38.74481 | 19.726670 | 11.463397 |\n| 567 | 567 | 3375030 | Pekalongan Selatan | 29.88476 |  7.781721 |  9.334437 |\n| 568 | 568 | 3375040 | Pekalongan Utara   | 42.03132 | 20.422872 | 10.751904 |\n| 569 | 569 | 3376010 | Tegal Selatan      | 37.01530 |  9.566342 |  8.355869 |\n| 570 | 570 | 3376020 | Tegal Timur        | 47.00990 | 21.290851 |  9.815381 |\n| 571 | 571 | 3376030 | Tegal Barat        | 41.65420 | 18.668465 | 10.372789 |\n| 572 | 572 | 3376040 | Margadana          | 36.02859 | 23.462917 | 13.444472 |\n\n",
            "text/latex": "A data.frame: 572 × 6\n\\begin{tabular}{r|llllll}\n  & No & KodeKec & NamaKec & Penduga\\_EBLUP\\_FH & MSE\\_EBLUP\\_FH & RRMSE\\_EBLUP\\_FH\\\\\n  & <dbl> & <dbl> & <chr> & <dbl> & <dbl> & <dbl>\\\\\n\\hline\n\t1 &  1 & 3301010 & Dayeuhluhur     & 23.25242 &  4.3761324 &  8.996574\\\\\n\t2 &  2 & 3301020 & Wanareja        & 16.65922 &  3.1301891 & 10.620152\\\\\n\t3 &  3 & 3301030 & Majenang        & 20.01924 &  5.1615108 & 11.348561\\\\\n\t4 &  4 & 3301040 & Cimanggu        & 20.29747 &  7.3783785 & 13.382540\\\\\n\t5 &  5 & 3301050 & Karangpucung    & 21.72875 & 18.4468478 & 19.766342\\\\\n\t6 &  6 & 3301060 & Cipari          & 14.63480 &  0.5692794 &  5.155560\\\\\n\t7 &  7 & 3301070 & Sidareja        & 26.95010 & 14.9783404 & 14.360562\\\\\n\t8 &  8 & 3301080 & Kedungreja      & 14.69054 &  5.8400773 & 16.450218\\\\\n\t9 &  9 & 3301090 & Patimuan        & 18.87251 &  6.7976296 & 13.814942\\\\\n\t10 & 10 & 3301100 & Gandrungmangu   & 18.80593 &  5.3928410 & 12.348495\\\\\n\t11 & 11 & 3301110 & Bantarsari      & 19.03947 & 13.6684754 & 19.418029\\\\\n\t12 & 12 & 3301120 & Kawunganten     & 25.80180 & 21.9063690 & 18.139912\\\\\n\t13 & 13 & 3301121 & Kampung Laut    & 19.34999 & 10.8874459 & 17.052269\\\\\n\t14 & 14 & 3301130 & Jeruklegi       & 23.30861 & 23.3741751 & 20.742059\\\\\n\t15 & 15 & 3301140 & Kesugihan       & 22.31882 & 15.6579924 & 17.729511\\\\\n\t16 & 16 & 3301150 & Adipala         & 30.84142 & 20.7210106 & 14.759483\\\\\n\t17 & 17 & 3301160 & Maos            & 42.19400 &  0.0000000 &  0.000000\\\\\n\t18 & 18 & 3301170 & Sampang         & 29.91523 & 21.6643176 & 15.558944\\\\\n\t19 & 19 & 3301180 & Kroya           & 28.87789 &  6.6717692 &  8.944480\\\\\n\t20 & 20 & 3301190 & Binangun        & 26.98962 & 26.6690806 & 19.134066\\\\\n\t21 & 21 & 3301200 & Nusawungu       & 44.48620 &  1.9892656 &  3.170451\\\\\n\t22 & 22 & 3301710 & Cilacap Selatan & 31.56026 & 19.4138145 & 13.960945\\\\\n\t23 & 23 & 3301720 & Cilacap Tengah  & 32.19672 & 21.7116870 & 14.472218\\\\\n\t24 & 24 & 3301730 & Cilacap Utara   & 21.05925 &  1.8439647 &  6.448125\\\\\n\t25 & 25 & 3302010 & Lumbir          & 24.64509 &  1.2178611 &  4.477839\\\\\n\t26 & 26 & 3302020 & Wangon          & 22.17092 &  8.3307731 & 13.018438\\\\\n\t27 & 27 & 3302030 & Jatilawang      & 22.99680 &  7.9125836 & 12.231837\\\\\n\t28 & 28 & 3302040 & Rawalo          & 27.58375 & 27.8088885 & 19.117825\\\\\n\t29 & 29 & 3302050 & Kebasen         & 23.88514 &  3.3760432 &  7.692654\\\\\n\t30 & 30 & 3302060 & Kemranjen       & 25.20502 & 17.3564769 & 16.528894\\\\\n\t⋮ & ⋮ & ⋮ & ⋮ & ⋮ & ⋮ & ⋮\\\\\n\t543 & 543 & 3372040 & Jebres             & 42.37408 & 10.776883 &  7.747227\\\\\n\t544 & 544 & 3372050 & Banjarsari         & 49.99652 & 24.142783 &  9.827745\\\\\n\t545 & 545 & 3373010 & Argomulyo          & 27.91386 &  3.622602 &  6.818523\\\\\n\t546 & 546 & 3373020 & Tingkir            & 30.77902 &  6.559269 &  8.320949\\\\\n\t547 & 547 & 3373030 & Sidomukti          & 32.57765 &  6.239324 &  7.667417\\\\\n\t548 & 548 & 3373040 & Sidorejo           & 30.90449 &  5.609707 &  7.663877\\\\\n\t549 & 549 & 3374010 & Mijen              & 27.87883 & 32.145218 & 20.336844\\\\\n\t550 & 550 & 3374020 & Gunung Pati        & 27.36789 & 10.776884 & 11.995141\\\\\n\t551 & 551 & 3374030 & Banyumanik         & 40.74019 & 21.355415 & 11.343079\\\\\n\t552 & 552 & 3374040 & Gajah Mungkur      & 42.96315 & 27.825602 & 12.277958\\\\\n\t553 & 553 & 3374050 & Semarang Selatan   & 39.10083 & 11.152558 &  8.540854\\\\\n\t554 & 554 & 3374060 & Candisari          & 36.62706 & 24.315908 & 13.463043\\\\\n\t555 & 555 & 3374070 & Tembalang          & 44.87344 & 21.022990 & 10.217811\\\\\n\t556 & 556 & 3374080 & Pedurungan         & 48.22320 & 28.501521 & 11.070774\\\\\n\t557 & 557 & 3374090 & Genuk              & 36.49714 &  8.731792 &  8.096417\\\\\n\t558 & 558 & 3374100 & Gayamsari          & 38.82916 & 24.724784 & 12.805844\\\\\n\t559 & 559 & 3374110 & Semarang Timur     & 41.77158 & 25.930112 & 12.190494\\\\\n\t560 & 560 & 3374120 & Semarang Utara     & 47.05614 & 26.920824 & 11.026251\\\\\n\t561 & 561 & 3374130 & Semarang Tengah    & 36.56151 & 16.950881 & 11.260872\\\\\n\t562 & 562 & 3374140 & Semarang Barat     & 53.31503 & 30.248554 & 10.315793\\\\\n\t563 & 563 & 3374150 & Tugu               & 32.94726 & 33.335248 & 17.523973\\\\\n\t564 & 564 & 3374160 & Ngaliyan           & 34.38674 & 19.258995 & 12.762206\\\\\n\t565 & 565 & 3375010 & Pekalongan Barat   & 34.23614 &  8.892543 &  8.710201\\\\\n\t566 & 566 & 3375020 & Pekalongan Timur   & 38.74481 & 19.726670 & 11.463397\\\\\n\t567 & 567 & 3375030 & Pekalongan Selatan & 29.88476 &  7.781721 &  9.334437\\\\\n\t568 & 568 & 3375040 & Pekalongan Utara   & 42.03132 & 20.422872 & 10.751904\\\\\n\t569 & 569 & 3376010 & Tegal Selatan      & 37.01530 &  9.566342 &  8.355869\\\\\n\t570 & 570 & 3376020 & Tegal Timur        & 47.00990 & 21.290851 &  9.815381\\\\\n\t571 & 571 & 3376030 & Tegal Barat        & 41.65420 & 18.668465 & 10.372789\\\\\n\t572 & 572 & 3376040 & Margadana          & 36.02859 & 23.462917 & 13.444472\\\\\n\\end{tabular}\n",
            "text/plain": [
              "    No  KodeKec NamaKec            Penduga_EBLUP_FH MSE_EBLUP_FH RRMSE_EBLUP_FH\n",
              "1    1  3301010 Dayeuhluhur        23.25242          4.3761324    8.996574     \n",
              "2    2  3301020 Wanareja           16.65922          3.1301891   10.620152     \n",
              "3    3  3301030 Majenang           20.01924          5.1615108   11.348561     \n",
              "4    4  3301040 Cimanggu           20.29747          7.3783785   13.382540     \n",
              "5    5  3301050 Karangpucung       21.72875         18.4468478   19.766342     \n",
              "6    6  3301060 Cipari             14.63480          0.5692794    5.155560     \n",
              "7    7  3301070 Sidareja           26.95010         14.9783404   14.360562     \n",
              "8    8  3301080 Kedungreja         14.69054          5.8400773   16.450218     \n",
              "9    9  3301090 Patimuan           18.87251          6.7976296   13.814942     \n",
              "10  10  3301100 Gandrungmangu      18.80593          5.3928410   12.348495     \n",
              "11  11  3301110 Bantarsari         19.03947         13.6684754   19.418029     \n",
              "12  12  3301120 Kawunganten        25.80180         21.9063690   18.139912     \n",
              "13  13  3301121 Kampung Laut       19.34999         10.8874459   17.052269     \n",
              "14  14  3301130 Jeruklegi          23.30861         23.3741751   20.742059     \n",
              "15  15  3301140 Kesugihan          22.31882         15.6579924   17.729511     \n",
              "16  16  3301150 Adipala            30.84142         20.7210106   14.759483     \n",
              "17  17  3301160 Maos               42.19400          0.0000000    0.000000     \n",
              "18  18  3301170 Sampang            29.91523         21.6643176   15.558944     \n",
              "19  19  3301180 Kroya              28.87789          6.6717692    8.944480     \n",
              "20  20  3301190 Binangun           26.98962         26.6690806   19.134066     \n",
              "21  21  3301200 Nusawungu          44.48620          1.9892656    3.170451     \n",
              "22  22  3301710 Cilacap Selatan    31.56026         19.4138145   13.960945     \n",
              "23  23  3301720 Cilacap Tengah     32.19672         21.7116870   14.472218     \n",
              "24  24  3301730 Cilacap Utara      21.05925          1.8439647    6.448125     \n",
              "25  25  3302010 Lumbir             24.64509          1.2178611    4.477839     \n",
              "26  26  3302020 Wangon             22.17092          8.3307731   13.018438     \n",
              "27  27  3302030 Jatilawang         22.99680          7.9125836   12.231837     \n",
              "28  28  3302040 Rawalo             27.58375         27.8088885   19.117825     \n",
              "29  29  3302050 Kebasen            23.88514          3.3760432    7.692654     \n",
              "30  30  3302060 Kemranjen          25.20502         17.3564769   16.528894     \n",
              "⋮   ⋮   ⋮       ⋮                  ⋮                ⋮            ⋮             \n",
              "543 543 3372040 Jebres             42.37408         10.776883     7.747227     \n",
              "544 544 3372050 Banjarsari         49.99652         24.142783     9.827745     \n",
              "545 545 3373010 Argomulyo          27.91386          3.622602     6.818523     \n",
              "546 546 3373020 Tingkir            30.77902          6.559269     8.320949     \n",
              "547 547 3373030 Sidomukti          32.57765          6.239324     7.667417     \n",
              "548 548 3373040 Sidorejo           30.90449          5.609707     7.663877     \n",
              "549 549 3374010 Mijen              27.87883         32.145218    20.336844     \n",
              "550 550 3374020 Gunung Pati        27.36789         10.776884    11.995141     \n",
              "551 551 3374030 Banyumanik         40.74019         21.355415    11.343079     \n",
              "552 552 3374040 Gajah Mungkur      42.96315         27.825602    12.277958     \n",
              "553 553 3374050 Semarang Selatan   39.10083         11.152558     8.540854     \n",
              "554 554 3374060 Candisari          36.62706         24.315908    13.463043     \n",
              "555 555 3374070 Tembalang          44.87344         21.022990    10.217811     \n",
              "556 556 3374080 Pedurungan         48.22320         28.501521    11.070774     \n",
              "557 557 3374090 Genuk              36.49714          8.731792     8.096417     \n",
              "558 558 3374100 Gayamsari          38.82916         24.724784    12.805844     \n",
              "559 559 3374110 Semarang Timur     41.77158         25.930112    12.190494     \n",
              "560 560 3374120 Semarang Utara     47.05614         26.920824    11.026251     \n",
              "561 561 3374130 Semarang Tengah    36.56151         16.950881    11.260872     \n",
              "562 562 3374140 Semarang Barat     53.31503         30.248554    10.315793     \n",
              "563 563 3374150 Tugu               32.94726         33.335248    17.523973     \n",
              "564 564 3374160 Ngaliyan           34.38674         19.258995    12.762206     \n",
              "565 565 3375010 Pekalongan Barat   34.23614          8.892543     8.710201     \n",
              "566 566 3375020 Pekalongan Timur   38.74481         19.726670    11.463397     \n",
              "567 567 3375030 Pekalongan Selatan 29.88476          7.781721     9.334437     \n",
              "568 568 3375040 Pekalongan Utara   42.03132         20.422872    10.751904     \n",
              "569 569 3376010 Tegal Selatan      37.01530          9.566342     8.355869     \n",
              "570 570 3376020 Tegal Timur        47.00990         21.290851     9.815381     \n",
              "571 571 3376030 Tegal Barat        41.65420         18.668465    10.372789     \n",
              "572 572 3376040 Margadana          36.02859         23.462917    13.444472     "
            ]
          },
          "metadata": {}
        }
      ]
    }
  ]
}