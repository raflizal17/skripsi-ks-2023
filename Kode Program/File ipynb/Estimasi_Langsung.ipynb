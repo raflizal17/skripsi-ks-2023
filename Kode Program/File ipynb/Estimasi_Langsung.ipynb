{
  "nbformat": 4,
  "nbformat_minor": 0,
  "metadata": {
    "colab": {
      "provenance": []
    },
    "kernelspec": {
      "name": "ir",
      "display_name": "R"
    }
  },
  "cells": [
    {
      "cell_type": "markdown",
      "source": [
        "# Install and Load Packages"
      ],
      "metadata": {
        "id": "PFY_jEHoo5tM"
      }
    },
    {
      "cell_type": "code",
      "source": [
        "install.packages(\"survey\")"
      ],
      "metadata": {
        "colab": {
          "base_uri": "https://localhost:8080/"
        },
        "id": "OhDQwBtroAT0",
        "outputId": "978af9db-b617-41f7-db3b-dde13100d48f"
      },
      "execution_count": 1,
      "outputs": [
        {
          "output_type": "stream",
          "name": "stderr",
          "text": [
            "Installing package into ‘/usr/local/lib/R/site-library’\n",
            "(as ‘lib’ is unspecified)\n",
            "\n",
            "also installing the dependencies ‘Rcpp’, ‘minqa’, ‘numDeriv’, ‘mitools’\n",
            "\n",
            "\n"
          ]
        }
      ]
    },
    {
      "cell_type": "code",
      "source": [
        "install.packages(\"readxl\")\n",
        "install.packages(\"dplyr\")"
      ],
      "metadata": {
        "colab": {
          "base_uri": "https://localhost:8080/"
        },
        "id": "GIRaQ2n-oE62",
        "outputId": "dbc8d8fd-e13e-4f20-8c50-45d04e12f7a3"
      },
      "execution_count": 2,
      "outputs": [
        {
          "output_type": "stream",
          "name": "stderr",
          "text": [
            "Installing package into ‘/usr/local/lib/R/site-library’\n",
            "(as ‘lib’ is unspecified)\n",
            "\n",
            "Installing package into ‘/usr/local/lib/R/site-library’\n",
            "(as ‘lib’ is unspecified)\n",
            "\n"
          ]
        }
      ]
    },
    {
      "cell_type": "code",
      "source": [
        "library(survey)\n",
        "library(readxl)\n",
        "library(dplyr)"
      ],
      "metadata": {
        "colab": {
          "base_uri": "https://localhost:8080/"
        },
        "id": "gqgrVfvSo-6b",
        "outputId": "bc8234d3-50c1-4eb7-c830-be9a6fe45d1b"
      },
      "execution_count": 3,
      "outputs": [
        {
          "output_type": "stream",
          "name": "stderr",
          "text": [
            "Loading required package: grid\n",
            "\n",
            "Loading required package: Matrix\n",
            "\n",
            "Loading required package: survival\n",
            "\n",
            "\n",
            "Attaching package: ‘survey’\n",
            "\n",
            "\n",
            "The following object is masked from ‘package:graphics’:\n",
            "\n",
            "    dotchart\n",
            "\n",
            "\n",
            "\n",
            "Attaching package: ‘dplyr’\n",
            "\n",
            "\n",
            "The following objects are masked from ‘package:stats’:\n",
            "\n",
            "    filter, lag\n",
            "\n",
            "\n",
            "The following objects are masked from ‘package:base’:\n",
            "\n",
            "    intersect, setdiff, setequal, union\n",
            "\n",
            "\n"
          ]
        }
      ]
    },
    {
      "cell_type": "markdown",
      "source": [
        "# Load Data Susenas Maret 2021"
      ],
      "metadata": {
        "id": "8uIB5r5IpF4S"
      }
    },
    {
      "cell_type": "code",
      "source": [
        "listrik_jateng <- read_excel(\"Konsumsi_Listrik_Ruta_Jateng_Susenas_2021.xlsx\")\n",
        "# Retype variables\n",
        "listrik_jateng$KodeProv <- as.factor(listrik_jateng$KodeProv)\n",
        "listrik_jateng$KodeKabKot <- as.factor(listrik_jateng$KodeKabKot)\n",
        "listrik_jateng$KodeKec <- as.factor(listrik_jateng$KodeKec)\n",
        "listrik_jateng$KlasWil <- as.factor(listrik_jateng$KlasWil)\n",
        "listrik_jateng$KodeSampel <- as.factor(listrik_jateng$KodeSampel)\n",
        "listrik_jateng$idkec <- as.factor(listrik_jateng$idkec)\n",
        "# Check missing data from each variable\n",
        "sapply(listrik_jateng, function(x) sum(is.na(listrik_jateng)))\n",
        "# Cek jumlah sampel tiap kecamatan\n",
        "table(listrik_jateng$KodeProv, listrik_jateng$idkec)"
      ],
      "metadata": {
        "colab": {
          "base_uri": "https://localhost:8080/",
          "height": 1000
        },
        "id": "Sr5Wf8Yfo3WE",
        "outputId": "1d6d1753-f645-4e72-94a2-99c4f29ff9da"
      },
      "execution_count": 4,
      "outputs": [
        {
          "output_type": "display_data",
          "data": {
            "text/html": [
              "<style>\n",
              ".dl-inline {width: auto; margin:0; padding: 0}\n",
              ".dl-inline>dt, .dl-inline>dd {float: none; width: auto; display: inline-block}\n",
              ".dl-inline>dt::after {content: \":\\0020\"; padding-right: .5ex}\n",
              ".dl-inline>dt:not(:first-of-type) {padding-left: .5ex}\n",
              "</style><dl class=dl-inline><dt>KodeProv</dt><dd>0</dd><dt>KodeKabKot</dt><dd>0</dd><dt>KodeKec</dt><dd>0</dd><dt>idkec</dt><dd>0</dd><dt>KlasWil</dt><dd>0</dd><dt>KodeSampel</dt><dd>0</dd><dt>NoUrutRuta</dt><dd>0</dd><dt>HasilPencacahanRuta</dt><dd>0</dd><dt>JumlahART</dt><dd>0</dd><dt>WERT</dt><dd>0</dd><dt>WEIND</dt><dd>0</dd><dt>PSU</dt><dd>0</dd><dt>SSU</dt><dd>0</dd><dt>KonsumsiListrik</dt><dd>0</dd><dt>PengeluaranListrik</dt><dd>0</dd><dt>KONSUMSI_LISTRIK_KAPITA</dt><dd>0</dd></dl>\n"
            ],
            "text/markdown": "KodeProv\n:   0KodeKabKot\n:   0KodeKec\n:   0idkec\n:   0KlasWil\n:   0KodeSampel\n:   0NoUrutRuta\n:   0HasilPencacahanRuta\n:   0JumlahART\n:   0WERT\n:   0WEIND\n:   0PSU\n:   0SSU\n:   0KonsumsiListrik\n:   0PengeluaranListrik\n:   0KONSUMSI_LISTRIK_KAPITA\n:   0\n\n",
            "text/latex": "\\begin{description*}\n\\item[KodeProv] 0\n\\item[KodeKabKot] 0\n\\item[KodeKec] 0\n\\item[idkec] 0\n\\item[KlasWil] 0\n\\item[KodeSampel] 0\n\\item[NoUrutRuta] 0\n\\item[HasilPencacahanRuta] 0\n\\item[JumlahART] 0\n\\item[WERT] 0\n\\item[WEIND] 0\n\\item[PSU] 0\n\\item[SSU] 0\n\\item[KonsumsiListrik] 0\n\\item[PengeluaranListrik] 0\n\\item[KONSUMSI\\textbackslash{}\\_LISTRIK\\textbackslash{}\\_KAPITA] 0\n\\end{description*}\n",
            "text/plain": [
              "               KodeProv              KodeKabKot                 KodeKec \n",
              "                      0                       0                       0 \n",
              "                  idkec                 KlasWil              KodeSampel \n",
              "                      0                       0                       0 \n",
              "             NoUrutRuta     HasilPencacahanRuta               JumlahART \n",
              "                      0                       0                       0 \n",
              "                   WERT                   WEIND                     PSU \n",
              "                      0                       0                       0 \n",
              "                    SSU         KonsumsiListrik      PengeluaranListrik \n",
              "                      0                       0                       0 \n",
              "KONSUMSI_LISTRIK_KAPITA \n",
              "                      0 "
            ]
          },
          "metadata": {}
        },
        {
          "output_type": "display_data",
          "data": {
            "text/plain": [
              "    \n",
              "     3301010 3301020 3301030 3301040 3301050 3301060 3301070 3301080 3301090\n",
              "  33      70      99      79      79      50      49      30      30      40\n",
              "    \n",
              "     3301100 3301110 3301120 3301121 3301130 3301140 3301150 3301160 3301170\n",
              "  33     100      40      40      20      49      40      40      10      19\n",
              "    \n",
              "     3301180 3301190 3301200 3301710 3301720 3301730 3302010 3302020 3302030\n",
              "  33      50      30      30      30      30      20      70      50      40\n",
              "    \n",
              "     3302040 3302050 3302060 3302070 3302080 3302090 3302100 3302110 3302120\n",
              "  33      39      20      50      40      19      30      30      30      30\n",
              "    \n",
              "     3302130 3302140 3302150 3302160 3302170 3302180 3302190 3302200 3302210\n",
              "  33      30      70      50      50      70      29      40      20      49\n",
              "    \n",
              "     3302220 3302230 3302710 3302720 3302730 3302740 3303010 3303020 3303030\n",
              "  33      40      30      30      20      30      30      80      70      49\n",
              "    \n",
              "     3303040 3303050 3303060 3303070 3303080 3303090 3303100 3303110 3303120\n",
              "  33      40      60      20      30      20      70      40      60      59\n",
              "    \n",
              "     3303130 3303131 3303140 3303141 3303150 3303160 3304010 3304020 3304030\n",
              "  33      60      50      30      20      30      50      30      20      30\n",
              "    \n",
              "     3304040 3304050 3304060 3304061 3304070 3304080 3304090 3304100 3304110\n",
              "  33      58      40      30      50      30      30      60      30      30\n",
              "    \n",
              "     3304120 3304130 3304140 3304150 3304160 3304170 3304180 3304181 3305010\n",
              "  33      70      40      50      50      40      50      58      40      60\n",
              "    \n",
              "     3305020 3305030 3305040 3305050 3305060 3305070 3305080 3305081 3305090\n",
              "  33      40      40      30      30      49      40      39      20      20\n",
              "    \n",
              "     3305091 3305100 3305110 3305111 3305120 3305130 3305140 3305150 3305160\n",
              "  33      10      30      40      20      39      30      30      29      19\n",
              "    \n",
              "     3305170 3305180 3305190 3305200 3305210 3305220 3305221 3306010 3306020\n",
              "  33      39      60      19      29      60      20      59      50      59\n",
              "    \n",
              "     3306030 3306040 3306050 3306060 3306070 3306080 3306090 3306100 3306110\n",
              "  33      39      30      50      70      30      50      50      50      50\n",
              "    \n",
              "     3306120 3306130 3306140 3306150 3306160 3307010 3307020 3307030 3307031\n",
              "  33      70      49      49      30      60      79      70      69      39\n",
              "    \n",
              "     3307040 3307050 3307051 3307060 3307070 3307080 3307090 3307100 3307110\n",
              "  33      70      40      40      40      70      69      40      70      50\n",
              "    \n",
              "     3307120 3307130 3308010 3308020 3308030 3308040 3308050 3308060 3308070\n",
              "  33      70      50      50      39      40      10      39      50      30\n",
              "    \n",
              "     3308080 3308090 3308100 3308110 3308120 3308130 3308140 3308150 3308160\n",
              "  33      30      59      50      39      20      60      60      39      50\n",
              "    \n",
              "     3308170 3308180 3308190 3308200 3308210 3309010 3309020 3309021 3309030\n",
              "  33      39      20      59      80      40      30      30      60      70\n",
              "    \n",
              "     3309040 3309041 3309050 3309060 3309070 3309080 3309090 3309100 3309110\n",
              "  33      20      40      30      40      29       9      30      50      50\n",
              "    \n",
              "     3309120 3309130 3309140 3309150 3309160 3309170 3309180 3309181 3309190\n",
              "  33      50      39      40      40      50      40      29      50      40\n",
              "    \n",
              "     3310010 3310020 3310030 3310040 3310050 3310060 3310070 3310080 3310090\n",
              "  33      40      20      40      50      38      50      20      10      39\n",
              "    \n",
              "     3310100 3310110 3310120 3310130 3310140 3310150 3310160 3310170 3310180\n",
              "  33      30      30      30      39      30      30      50      39      20\n",
              "    \n",
              "     3310190 3310200 3310210 3310220 3310230 3310710 3310720 3310730 3311010\n",
              "  33      30      20      50      50      69      30      20      30      60\n",
              "    \n",
              "     3311020 3311030 3311040 3311050 3311060 3311070 3311080 3311090 3311100\n",
              "  33      40      39      69      69      69      68      70     107      60\n",
              "    \n",
              "     3311110 3311120 3312010 3312020 3312030 3312040 3312050 3312060 3312070\n",
              "  33      40     129      60      20      20      30      19      20      50\n",
              "    \n",
              "     3312080 3312090 3312100 3312110 3312120 3312130 3312140 3312150 3312160\n",
              "  33      30      30      50      20      40      19      40      59      40\n",
              "    \n",
              "     3312170 3312180 3312190 3312200 3312201 3312210 3312220 3312230 3312240\n",
              "  33      49      30      40      20      20      50      30      29      49\n",
              "    \n",
              "     3313010 3313020 3313030 3313040 3313050 3313060 3313070 3313080 3313090\n",
              "  33      60      39      59      60      30      60      40      30      70\n",
              "    \n",
              "     3313100 3313110 3313120 3313130 3313140 3313150 3313160 3313170 3314010\n",
              "  33      40      60      58      79      40      50      30      30      40\n",
              "    \n",
              "     3314020 3314030 3314040 3314050 3314060 3314070 3314080 3314090 3314100\n",
              "  33      70      40      40      10      60      50      40      40      40\n",
              "    \n",
              "     3314110 3314120 3314130 3314140 3314150 3314160 3314170 3314180 3314190\n",
              "  33      40      70      49      20      50      50      40      35      30\n",
              "    \n",
              "     3314200 3315010 3315020 3315030 3315040 3315050 3315060 3315070 3315080\n",
              "  33      50      30      78      59      60      80      59      60      80\n",
              "    \n",
              "     3315090 3315100 3315110 3315120 3315130 3315140 3315150 3315160 3315170\n",
              "  33      78      58      59      40      60      30      30      60      30\n",
              "    \n",
              "     3315180 3315190 3316010 3316020 3316030 3316040 3316050 3316060 3316070\n",
              "  33      50      30      50      70      49      60      50      30      40\n",
              "    \n",
              "     3316080 3316090 3316100 3316110 3316120 3316130 3316140 3316150 3316160\n",
              "  33      30      40      79      50      50      40      60      70      70\n",
              "    \n",
              "     3317010 3317020 3317030 3317040 3317050 3317060 3317070 3317080 3317090\n",
              "  33      49      50      40      50      70      70      60      60      60\n",
              "    \n",
              "     3317100 3317110 3317120 3317130 3317140 3318010 3318020 3318030 3318040\n",
              "  33      80      30      80      39      50      80      50      49      60\n",
              "    \n",
              "     3318050 3318060 3318070 3318080 3318090 3318100 3318110 3318120 3318130\n",
              "  33      50      50      50      40      40      40      30      30      40\n",
              "    \n",
              "     3318140 3318150 3318160 3318170 3318180 3318190 3318200 3318210 3319010\n",
              "  33      50      30      30      50      30      50      20      40      90\n",
              "    \n",
              "     3319020 3319030 3319040 3319050 3319060 3319070 3319080 3319090 3320010\n",
              "  33      80      80     120      60     100      60      89     150      50\n",
              "    \n",
              "     3320020 3320021 3320030 3320040 3320050 3320060 3320070 3320080 3320090\n",
              "  33      40      40      40      80      40      60      60      40      50\n",
              "    \n",
              "     3320091 3320100 3320101 3320110 3320111 3320120 3321010 3321020 3321030\n",
              "  33      29      80     100     110      69      20      80     100      60\n",
              "    \n",
              "     3321040 3321050 3321060 3321070 3321080 3321090 3321091 3321100 3321110\n",
              "  33      70      50      70      79      70      80      39      50      70\n",
              "    \n",
              "     3321120 3321130 3322010 3322020 3322030 3322031 3322040 3322050 3322060\n",
              "  33      30      60      80      39      50      30      69      50      30\n",
              "    \n",
              "     3322070 3322080 3322090 3322100 3322101 3322110 3322120 3322121 3322130\n",
              "  33      40      40      40      29      60      50      60      30      50\n",
              "    \n",
              "     3322140 3322151 3322152 3323010 3323011 3323012 3323020 3323030 3323031\n",
              "  33      50      39      30      30      40      30      60      50      19\n",
              "    \n",
              "     3323040 3323041 3323050 3323060 3323070 3323080 3323090 3323100 3323110\n",
              "  33      20      30      60      49      50      49      39      59      40\n",
              "    \n",
              "     3323111 3323120 3323121 3323130 3323131 3324010 3324020 3324030 3324040\n",
              "  33      50      40      30      40      40      50      70      49      60\n",
              "    \n",
              "     3324050 3324060 3324070 3324080 3324081 3324090 3324100 3324101 3324110\n",
              "  33      60      39      60      38      40      40      30      20      50\n",
              "    \n",
              "     3324111 3324120 3324130 3324140 3324150 3324160 3324170 3325010 3325020\n",
              "  33      29      40      40      50      39      39      30      40      80\n",
              "    \n",
              "     3325030 3325040 3325050 3325060 3325070 3325080 3325081 3325090 3325091\n",
              "  33      60      60      70      50      80      40      30      60      40\n",
              "    \n",
              "     3325100 3325101 3325110 3325120 3326010 3326020 3326030 3326040 3326050\n",
              "  33      40      60      80      40      40      40      20      10      50\n",
              "    \n",
              "     3326060 3326070 3326080 3326090 3326100 3326101 3326110 3326120 3326130\n",
              "  33      30      50      59      90      60      40      70      30      70\n",
              "    \n",
              "     3326131 3326140 3326150 3326160 3326161 3327010 3327011 3327020 3327030\n",
              "  33      20      30      50      50      30      40      30      59      90\n",
              "    \n",
              "     3327040 3327050 3327060 3327070 3327080 3327090 3327100 3327110 3327120\n",
              "  33      79      60     100      70     109      69      80      40      30\n",
              "    \n",
              "     3327130 3328010 3328040 3328050 3328060 3328080 3328090 3328100 3328110\n",
              "  33      50      70      59      50     100     110      79      50      40\n",
              "    \n",
              "     3328120 3328130 3328140 3328150 3328160 3328170 3328180 3329010 3329020\n",
              "  33      99      50      50      40      60      70      30      50      78\n",
              "    \n",
              "     3329030 3329040 3329050 3329060 3329070 3329080 3329090 3329100 3329110\n",
              "  33      50      50      40      50     110      90     120      40      60\n",
              "    \n",
              "     3329120 3329130 3329140 3329150 3329160 3329170 3371010 3371011 3371020\n",
              "  33      20      69      60      50      30      70     180     188     178\n",
              "    \n",
              "     3372010 3372020 3372030 3372040 3372050 3373010 3373020 3373030 3373040\n",
              "  33     115      50      99     255     212     130     130     118     187\n",
              "    \n",
              "     3374010 3374020 3374030 3374040 3374050 3374060 3374070 3374080 3374090\n",
              "  33      80      60      87      40      40      49     110     109      70\n",
              "    \n",
              "     3374100 3374110 3374120 3374130 3374140 3374150 3374160 3375010 3375020\n",
              "  33      48      36      70      30      87      29      79     209     148\n",
              "    \n",
              "     3375030 3375040 3376010 3376020 3376030 3376040\n",
              "  33     138     160     144     172     149     133"
            ]
          },
          "metadata": {}
        }
      ]
    },
    {
      "cell_type": "markdown",
      "source": [
        "# Estimasi Langsung"
      ],
      "metadata": {
        "id": "xAyDh6aRpJkn"
      }
    },
    {
      "cell_type": "code",
      "source": [
        "# Mengatur sampel PSU yang terisolasi dengan metode penyesuaian\n",
        "options(survey.lonely.psu=\"adjust\")\n",
        "# Desain survei SUSENAS\n",
        "susenas.design.jateng <- svydesign(ids = ~PSU+SSU, strata = ~KlasWil, data=listrik_jateng, weights = ~WEIND)\n",
        "summary(susenas.design.jateng)\n",
        "# Menghitung hasil estimasi\n",
        "hasil <- svyby(formula= ~KONSUMSI_LISTRIK_KAPITA, ~idkec, design=susenas.design.jateng, deff=TRUE, svymean, vartype = c(\"se\", \"ci\", \"ci\", \"cv\", \"cvpct\", \"var\"))\n",
        "y_est_lgsg <- hasil$KONSUMSI_LISTRIK_KAPITA\n",
        "var_est_lgsg <- hasil$var\n",
        "se_est_lgsg <- hasil$se\n",
        "ci_lower_est_lgsg <- hasil$ci_l\n",
        "ci_upper_est_lgsg <- hasil$ci_u\n",
        "deff_est_lgsg <- hasil$DEff.KONSUMSI_LISTRIK_KAPITA\n",
        "rse_est_lgsg <- hasil$`cv%`\n",
        "mse_est_lgsg <- hasil$var # MSE=VAR karena bias penduga langsung dianggap = 0"
      ],
      "metadata": {
        "colab": {
          "base_uri": "https://localhost:8080/",
          "height": 416
        },
        "id": "aqvGY9IapLj4",
        "outputId": "4e1b9fc4-cad4-4ca6-9daa-5ff014dfa5e7"
      },
      "execution_count": 5,
      "outputs": [
        {
          "output_type": "display_data",
          "data": {
            "text/plain": [
              "Stratified 2 - level Cluster Sampling design (with replacement)\n",
              "With (3005, 29856) clusters.\n",
              "svydesign(ids = ~PSU + SSU, strata = ~KlasWil, data = listrik_jateng, \n",
              "    weights = ~WEIND)\n",
              "Probabilities:\n",
              "     Min.   1st Qu.    Median      Mean   3rd Qu.      Max. \n",
              "9.822e-05 6.343e-04 1.023e-03 2.153e-03 1.920e-03 2.123e-01 \n",
              "First-level Stratum Sizes: \n",
              "               1     2\n",
              "obs        15857 13999\n",
              "design.PSU  1598  1407\n",
              "actual.PSU  1598  1407\n",
              "Data variables:\n",
              " [1] \"KodeProv\"                \"KodeKabKot\"             \n",
              " [3] \"KodeKec\"                 \"idkec\"                  \n",
              " [5] \"KlasWil\"                 \"KodeSampel\"             \n",
              " [7] \"NoUrutRuta\"              \"HasilPencacahanRuta\"    \n",
              " [9] \"JumlahART\"               \"WERT\"                   \n",
              "[11] \"WEIND\"                   \"PSU\"                    \n",
              "[13] \"SSU\"                     \"KonsumsiListrik\"        \n",
              "[15] \"PengeluaranListrik\"      \"KONSUMSI_LISTRIK_KAPITA\""
            ]
          },
          "metadata": {}
        },
        {
          "output_type": "stream",
          "name": "stderr",
          "text": [
            "Warning message in matrix(1:(ns * reps), ncol = reps, nrow = ns, byrow = TRUE):\n",
            "“non-empty data for zero-extent matrix”\n"
          ]
        }
      ]
    },
    {
      "cell_type": "markdown",
      "source": [
        "# Ekspor Hasil Estimasi Langsung"
      ],
      "metadata": {
        "id": "_woHaWYrpZYE"
      }
    },
    {
      "cell_type": "code",
      "source": [
        "temp <- read_excel(\"data_estimasi_langsung.xlsx\")\n",
        "data_est_lgsg <- data.frame(temp$KodeKecamatan, temp$NamaKecamatan, y_est_lgsg, var_est_lgsg, se_est_lgsg, ci_lower_est_lgsg, ci_upper_est_lgsg, deff_est_lgsg, rse_est_lgsg, mse_est_lgsg)\n",
        "names(data_est_lgsg) <- c(\"KodeKec\", \"NamaKec\", \"Konsumsi_Listrik_Kapita\", \"Var\", \"SE\", \"CI_Lower\", \"CI_Upper\", \"DEFF\", \"RSE\", \"MSE\")\n",
        "write.csv(data_est_lgsg, \"Hasil_Estimasi_Langsung.csv\")"
      ],
      "metadata": {
        "id": "xWZR_NmBpcdw"
      },
      "execution_count": 7,
      "outputs": []
    }
  ]
}